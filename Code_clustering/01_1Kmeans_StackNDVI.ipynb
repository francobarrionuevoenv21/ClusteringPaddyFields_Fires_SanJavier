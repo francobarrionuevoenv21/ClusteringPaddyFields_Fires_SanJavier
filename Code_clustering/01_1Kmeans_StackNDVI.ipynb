{
  "cells": [
    {
      "cell_type": "markdown",
      "id": "2a97854e-1104-414c-8369-50568dcb916a",
      "metadata": {
        "id": "2a97854e-1104-414c-8369-50568dcb916a"
      },
      "source": [
        "# NDVI de Terra/MODIS Time Series Unsupervised Classification with Kmeans with GEE Python API (First attempt)"
      ]
    },
    {
      "cell_type": "code",
      "source": [
        "# Install necessary packages in Colab\n",
        "!pip install rasterio"
      ],
      "metadata": {
        "id": "b5tWjYqh_9XX",
        "collapsed": true
      },
      "id": "b5tWjYqh_9XX",
      "execution_count": null,
      "outputs": []
    },
    {
      "cell_type": "markdown",
      "id": "037221fb-50e6-4b34-a7d9-1c849edc0dbf",
      "metadata": {
        "id": "037221fb-50e6-4b34-a7d9-1c849edc0dbf"
      },
      "source": [
        "## Import libraries"
      ]
    },
    {
      "cell_type": "code",
      "execution_count": null,
      "id": "95c7c71e-558b-4e8b-bc8e-a08c34d15cb3",
      "metadata": {
        "execution": {
          "iopub.execute_input": "2024-03-04T20:39:54.521712Z",
          "iopub.status.busy": "2024-03-04T20:39:54.521568Z",
          "iopub.status.idle": "2024-03-04T20:40:27.151349Z",
          "shell.execute_reply": "2024-03-04T20:40:27.151064Z",
          "shell.execute_reply.started": "2024-03-04T20:39:54.521701Z"
        },
        "tags": [],
        "id": "95c7c71e-558b-4e8b-bc8e-a08c34d15cb3"
      },
      "outputs": [],
      "source": [
        "import ee\n",
        "\n",
        "# Authenticate and initialize GEE\n",
        "ee.Authenticate()\n",
        "ee.Initialize(project='ee-my-francodbarr') # NOTE: change according to your GEE project name"
      ]
    },
    {
      "cell_type": "code",
      "execution_count": null,
      "id": "60f5e2f5-8601-4509-9132-e1610558357b",
      "metadata": {
        "execution": {
          "iopub.execute_input": "2024-03-04T20:40:53.832518Z",
          "iopub.status.busy": "2024-03-04T20:40:53.832359Z",
          "iopub.status.idle": "2024-03-04T20:40:54.559108Z",
          "shell.execute_reply": "2024-03-04T20:40:54.558733Z",
          "shell.execute_reply.started": "2024-03-04T20:40:53.832505Z"
        },
        "tags": [],
        "id": "60f5e2f5-8601-4509-9132-e1610558357b"
      },
      "outputs": [],
      "source": [
        "import pandas as pd\n",
        "import numpy as np\n",
        "from datetime import datetime as dt\n",
        "import geemap\n",
        "import geopandas as gpd\n",
        "from shapely.geometry import Polygon\n",
        "from shapely.geometry import shape\n",
        "from shapely.geometry import Point\n",
        "import rasterio\n",
        "import random\n",
        "from google.colab import files"
      ]
    },
    {
      "cell_type": "markdown",
      "source": [
        "## Data and layers importing"
      ],
      "metadata": {
        "id": "l4B9STFrxiBV"
      },
      "id": "l4B9STFrxiBV"
    },
    {
      "cell_type": "markdown",
      "source": [
        "### Planicie de paleocauces vector importing and conversion"
      ],
      "metadata": {
        "id": "Y8rPXhVHP_2f"
      },
      "id": "Y8rPXhVHP_2f"
    },
    {
      "cell_type": "code",
      "source": [
        "# Import vector file from the GH repo\n",
        "!wget https://github.com/francobarrionuevoenv21/ClusteringArroceras_Incendios_SanJavier/blob/main/Primary_data/Planicie_con_paleocauces_NW-SW_4326.geojson"
      ],
      "metadata": {
        "id": "AzsaRp9m5-qR",
        "collapsed": true
      },
      "id": "AzsaRp9m5-qR",
      "execution_count": null,
      "outputs": []
    },
    {
      "cell_type": "code",
      "source": [
        "# Vector file reading\n",
        "targetCRS = \"EPSG:4326\"\n",
        "vectorPPCC = gpd.read_file('/content/Planicie_con_paleocauces_NW-SW_4326.geojson').to_crs(targetCRS)"
      ],
      "metadata": {
        "id": "1mp2aXyLAG8F"
      },
      "id": "1mp2aXyLAG8F",
      "execution_count": null,
      "outputs": []
    },
    {
      "cell_type": "code",
      "source": [
        "# getCoordsSHP function\n",
        "def getCoordsSHP(gdfshpFile):\n",
        "  '''\n",
        "  This function takes a polygon vector file passed as a GeoDataFrame. Then\n",
        "  it returns all the coordinates as a tuple of tuples.\n",
        "  '''\n",
        "\n",
        "  gdfiterf = gdfshpFile.iterfeatures()\n",
        "  tupleFile = next(gdfiterf)['geometry']['coordinates']\n",
        "\n",
        "  return tupleFile\n",
        "\n",
        "# Get vector coordinates as a tuple of tuples\n",
        "tupleOfTuples01 = getCoordsSHP(vectorPPCC)\n",
        "\n",
        "# Converting coordinates into a list of lists\n",
        "listOfLists01 = [list(t[:2]) for t in tupleOfTuples01[0]]\n",
        "\n",
        "# Coordinates to a EE.Polygon\n",
        "polygon01 = ee.Geometry.Polygon(listOfLists01)\n",
        "\n",
        "# Polygon to a EE Feature Collection (For clipping according to the vector of the region)\n",
        "featureCollection01 = ee.FeatureCollection(polygon01)"
      ],
      "metadata": {
        "id": "XY1i9ZRSDf7o"
      },
      "id": "XY1i9ZRSDf7o",
      "execution_count": null,
      "outputs": []
    },
    {
      "cell_type": "markdown",
      "id": "180f5571-9ff7-4ea7-b220-d56fa127a7c5",
      "metadata": {
        "id": "180f5571-9ff7-4ea7-b220-d56fa127a7c5"
      },
      "source": [
        "### MODIS NDVI data retrieving from GEE catalog\n",
        "#### https://developers.google.com/earth-engine/datasets/catalog/MODIS_061_MOD13Q1"
      ]
    },
    {
      "cell_type": "code",
      "execution_count": null,
      "id": "b4c98ad6-9f10-46a4-b4f0-c7d3594dcc4b",
      "metadata": {
        "execution": {
          "iopub.execute_input": "2024-03-04T20:41:09.114747Z",
          "iopub.status.busy": "2024-03-04T20:41:09.114532Z",
          "iopub.status.idle": "2024-03-04T20:41:09.116889Z",
          "shell.execute_reply": "2024-03-04T20:41:09.116644Z",
          "shell.execute_reply.started": "2024-03-04T20:41:09.114726Z"
        },
        "tags": [],
        "id": "b4c98ad6-9f10-46a4-b4f0-c7d3594dcc4b"
      },
      "outputs": [],
      "source": [
        "# MODIS MOD13Q1 NDVI data selection\n",
        "MODIS = ee.ImageCollection('MODIS/006/MOD13Q1').select('NDVI') # MOD13Q1.061 Terra Vegetation Indices 16-Day Global 250m\n",
        "\n",
        "# Time range selection\n",
        "startDate = '2000-02-18'\n",
        "endDate = '2022-12-31'\n",
        "\n",
        "# Image collection filtering by time range\n",
        "MODIS = MODIS.filterDate(startDate, endDate)"
      ]
    },
    {
      "cell_type": "code",
      "execution_count": null,
      "id": "1f145dcc-3a79-4430-9d86-fbb9fca15421",
      "metadata": {
        "execution": {
          "iopub.execute_input": "2024-03-04T20:43:23.732387Z",
          "iopub.status.busy": "2024-03-04T20:43:23.732247Z",
          "iopub.status.idle": "2024-03-04T20:43:25.231874Z",
          "shell.execute_reply": "2024-03-04T20:43:25.231566Z",
          "shell.execute_reply.started": "2024-03-04T20:43:23.732376Z"
        },
        "tags": [],
        "id": "1f145dcc-3a79-4430-9d86-fbb9fca15421",
        "collapsed": true
      },
      "outputs": [],
      "source": [
        "# Check data retrieving\n",
        "print(type(MODIS))\n",
        "print(MODIS.size().getInfo())"
      ]
    },
    {
      "cell_type": "code",
      "execution_count": null,
      "id": "e96358c4-d132-46fe-9270-b6a538a1cd73",
      "metadata": {
        "execution": {
          "iopub.execute_input": "2024-03-04T20:47:53.655071Z",
          "iopub.status.busy": "2024-03-04T20:47:53.654920Z",
          "iopub.status.idle": "2024-03-04T20:47:53.658519Z",
          "shell.execute_reply": "2024-03-04T20:47:53.658161Z",
          "shell.execute_reply.started": "2024-03-04T20:47:53.655061Z"
        },
        "tags": [],
        "id": "e96358c4-d132-46fe-9270-b6a538a1cd73"
      },
      "outputs": [],
      "source": [
        "# Define a function to unmask the NDVI band\n",
        "def unmaskNDVI(image):\n",
        "    return image.select('NDVI').unmask(-2000)\n",
        "\n",
        "# Map the unmask function over the entire collection\n",
        "MODIS_unmasked = MODIS.map(unmaskNDVI)"
      ]
    },
    {
      "cell_type": "code",
      "execution_count": null,
      "id": "371e78f1-8b8b-40ea-b867-fe0debba660d",
      "metadata": {
        "execution": {
          "iopub.execute_input": "2024-03-04T20:48:08.062671Z",
          "iopub.status.busy": "2024-03-04T20:48:08.062505Z",
          "iopub.status.idle": "2024-03-04T20:48:09.542990Z",
          "shell.execute_reply": "2024-03-04T20:48:09.542277Z",
          "shell.execute_reply.started": "2024-03-04T20:48:08.062659Z"
        },
        "tags": [],
        "id": "371e78f1-8b8b-40ea-b867-fe0debba660d",
        "collapsed": true
      },
      "outputs": [],
      "source": [
        "# Convert the image collection to a stack of images\n",
        "MODIS_stack = MODIS_unmasked.toBands()\n",
        "print(type(MODIS_stack))"
      ]
    },
    {
      "cell_type": "code",
      "execution_count": null,
      "id": "2375393e-2a96-4b44-9fe3-8d150c5926f6",
      "metadata": {
        "execution": {
          "iopub.execute_input": "2024-03-04T20:48:18.992072Z",
          "iopub.status.busy": "2024-03-04T20:48:18.991639Z",
          "iopub.status.idle": "2024-03-04T20:48:18.995604Z",
          "shell.execute_reply": "2024-03-04T20:48:18.995306Z",
          "shell.execute_reply.started": "2024-03-04T20:48:18.992036Z"
        },
        "tags": [],
        "id": "2375393e-2a96-4b44-9fe3-8d150c5926f6"
      },
      "outputs": [],
      "source": [
        "# Clip the stack of images according to the study area\n",
        "MODIS_stack = MODIS_stack.clipToCollection(featureCollection01)"
      ]
    },
    {
      "cell_type": "markdown",
      "source": [
        "## K-means classification of the study area\n",
        "#### Kmeans in GEE description: https://developers.google.com/earth-engine/guides/clustering"
      ],
      "metadata": {
        "id": "NlYE3dyz-Czu"
      },
      "id": "NlYE3dyz-Czu"
    },
    {
      "cell_type": "markdown",
      "source": [
        "### Initialization/training dataset"
      ],
      "metadata": {
        "id": "-TzPrE4IuG2f"
      },
      "id": "-TzPrE4IuG2f"
    },
    {
      "cell_type": "code",
      "source": [
        "'''\n",
        "NOTE: Running the Kmeans algorithm in GEE requires random training points as input\n",
        "'''\n",
        "\n",
        "# Define the region to generate the input sample\n",
        "region = featureCollection01\n",
        "# Pixel spatial resolution in meters\n",
        "scale = 250\n",
        "# Number of initialization/training points\n",
        "numPixels = 5000\n",
        "\n",
        "# Make the training dataset\n",
        "MODIS_randomtraining = MODIS_stack.sample(region=region, scale=scale, numPixels=numPixels)"
      ],
      "metadata": {
        "id": "BcEkt7YIJERJ"
      },
      "id": "BcEkt7YIJERJ",
      "execution_count": null,
      "outputs": []
    },
    {
      "cell_type": "markdown",
      "source": [
        "### Study area classification"
      ],
      "metadata": {
        "id": "3Xki8nNruO-W"
      },
      "id": "3Xki8nNruO-W"
    },
    {
      "cell_type": "code",
      "execution_count": null,
      "id": "4dc671a6-0a81-4abf-935a-4232714b87c0",
      "metadata": {
        "tags": [],
        "id": "4dc671a6-0a81-4abf-935a-4232714b87c0"
      },
      "outputs": [],
      "source": [
        "'''\n",
        "NOTE: The criteria for the number of classification clusters was defined as\n",
        "~6 times the prior landcover classification types according to Clausser et al. (2023)\n",
        "'''\n",
        "# Define the number of clusters for classification\n",
        "num_clusters = 50\n",
        "\n",
        "# Train the Kmeans classifier\n",
        "kmeans = ee.Clusterer.wekaKMeans(num_clusters).train(MODIS_randomtraining)"
      ]
    },
    {
      "cell_type": "code",
      "execution_count": null,
      "id": "37d1074b-5933-4f81-bdd8-2c131169aac2",
      "metadata": {
        "tags": [],
        "id": "37d1074b-5933-4f81-bdd8-2c131169aac2"
      },
      "outputs": [],
      "source": [
        "# Apply the classifier over the stack of images (Time series classification)\n",
        "MODIS_kmeans = MODIS_stack.cluster(kmeans) # Pixels are classified as 0 to n_clusters-1\n",
        "MODIS_kmeans = MODIS_kmeans.add(1) # Sum 1 so the first cluster id different to 0\n",
        "\n",
        "# Clip the image classified according to vector of the study area\n",
        "MODIS_kmeans = MODIS_kmeans.clip(featureCollection01)"
      ]
    },
    {
      "cell_type": "code",
      "execution_count": null,
      "id": "4ae1fe3f-5950-4d89-81eb-3c7d63dc041f",
      "metadata": {
        "tags": [],
        "id": "4ae1fe3f-5950-4d89-81eb-3c7d63dc041f"
      },
      "outputs": [],
      "source": [
        "# Check image output format\n",
        "print(type(MODIS_kmeans))"
      ]
    },
    {
      "cell_type": "markdown",
      "source": [
        "### Output visualization"
      ],
      "metadata": {
        "id": "nIiI29EWzZMg"
      },
      "id": "nIiI29EWzZMg"
    },
    {
      "cell_type": "code",
      "execution_count": null,
      "id": "1b16d004-02c1-4db6-a798-5ea2e2966670",
      "metadata": {
        "tags": [],
        "id": "1b16d004-02c1-4db6-a798-5ea2e2966670"
      },
      "outputs": [],
      "source": [
        "Map = geemap.Map(center=(-32.06, -60.62), zoom=9)\n",
        "Map.addLayer(MODIS_kmeans)\n",
        "\n",
        "Map"
      ]
    },
    {
      "cell_type": "markdown",
      "source": [
        "### Export the final classification"
      ],
      "metadata": {
        "id": "qdFL_HbezjZ4"
      },
      "id": "qdFL_HbezjZ4"
    },
    {
      "cell_type": "code",
      "source": [
        "'''\n",
        "Tutorial for large images exporting from GEE\n",
        "https://worldbank.github.io/OpenNightLights/tutorials/mod3_7_import_export_data.html\n",
        "'''\n",
        "\n",
        "task = ee.batch.Export.image.toDrive(\n",
        "        image = MODIS_kmeans.toDouble(),\n",
        "        scale=scale,\n",
        "        region = featureCollection01.geometry().bounds(), # Or use custom ee.Geometry.Rectangle([minlon, minlat, maxlon, maxlat])\n",
        "        description = 'MODIS_MOD13Q1_NDVI_kmeans50-17-04', # Define the name of the exported file\n",
        "        crs = 'EPSG:4326',\n",
        "        maxPixels = 1e10, # Avoid limits in memory usage\n",
        "        fileFormat = \"GeoTIFF\",\n",
        "        folder ='earthengine'\n",
        "  )\n",
        "\n",
        "task.start() # Find the final image in Google Drive folder"
      ],
      "metadata": {
        "id": "Xf7H_5Z8YSGQ"
      },
      "id": "Xf7H_5Z8YSGQ",
      "execution_count": null,
      "outputs": []
    },
    {
      "cell_type": "markdown",
      "id": "3b3bb87e-835e-4e24-9865-d384f7545b7f",
      "metadata": {
        "id": "3b3bb87e-835e-4e24-9865-d384f7545b7f"
      },
      "source": [
        "## Summary of cluster's classes\n",
        "\n",
        "#### Data sampling to reconstruct the timeseries of each classification"
      ]
    },
    {
      "cell_type": "code",
      "source": [
        "# Import image with the classification from the GH repo\n",
        "# If any error with the link, you can find the file here: https://github.com/francobarrionuevoenv21/ClusteringArroceras_Incendios_SanJavier/blob/main/Data_results/01_MODIS_MOD13Q1_NDVI_kmeans50-17-04.tif\n",
        "!wget https://github.com/francobarrionuevoenv21/ClusteringArroceras_Incendios_SanJavier/raw/refs/heads/main/Data_results/01_MODIS_MOD13Q1_NDVI_kmeans50-17-04.tif"
      ],
      "metadata": {
        "id": "K2q5b8DwTDZn",
        "collapsed": true
      },
      "id": "K2q5b8DwTDZn",
      "execution_count": null,
      "outputs": []
    },
    {
      "cell_type": "code",
      "source": [
        "# Load raster classification\n",
        "raster_file = \"/content/01_MODIS_MOD13Q1_NDVI_kmeans50-17-04.tif\"\n",
        "with rasterio.open(raster_file) as src:\n",
        "    classification = src.read(1)\n",
        "    transform = src.transform\n",
        "    num_clusters = len(np.unique(classification))"
      ],
      "metadata": {
        "id": "HtTGPD-I_k9G"
      },
      "id": "HtTGPD-I_k9G",
      "execution_count": null,
      "outputs": []
    },
    {
      "cell_type": "markdown",
      "source": [
        "### Create a dataset with random sampling points of the obtained classification"
      ],
      "metadata": {
        "id": "LwW2d2as_ISD"
      },
      "id": "LwW2d2as_ISD"
    },
    {
      "cell_type": "code",
      "execution_count": null,
      "id": "b347f9a7-8d41-4ca4-8010-6a211d223ecf",
      "metadata": {
        "tags": [],
        "id": "b347f9a7-8d41-4ca4-8010-6a211d223ecf"
      },
      "outputs": [],
      "source": [
        "# Set the number of sampling points for each cluster\n",
        "num_points_per_cluster = 100\n",
        "\n",
        "# Initialize lists for storing the sampling points data\n",
        "points = []\n",
        "cluster_numbers = []\n",
        "\n",
        "# Ieration for generating the sampling points randomly\n",
        "for cluster_id in range(1, num_clusters + 1):\n",
        "    cluster_indices = np.where(classification == cluster_id)\n",
        "    sample_indices = random.sample(range(len(cluster_indices[0])), min(num_points_per_cluster, len(cluster_indices[0])))\n",
        "\n",
        "    for index in sample_indices:\n",
        "        row, col = cluster_indices[0][index], cluster_indices[1][index] # Gets the index of each pixel\n",
        "        x, y = rasterio.transform.xy(transform, row, col) # Extracts the coordinates from each pixel\n",
        "        points.append(Point(x, y))\n",
        "        cluster_numbers.append(cluster_id)\n",
        "\n",
        "\n",
        "# Create a GeoDataFrame from the points\n",
        "data = {'geometry': points, 'cluster': cluster_numbers}\n",
        "gdf = gpd.GeoDataFrame(data, crs=src.crs)\n",
        "\n",
        "# Save the GeoDataFrame to a shapefile\n",
        "output_shapefile = \"kmeans_random_points.shp\"\n",
        "gdf.to_file(output_shapefile)\n",
        "\n",
        "print(\"Random points saved to:\", output_shapefile)"
      ]
    },
    {
      "cell_type": "markdown",
      "source": [
        "### Data sampling from the original MODIS dataset to reconstruct the TS"
      ],
      "metadata": {
        "id": "IyCTYCXT_gak"
      },
      "id": "IyCTYCXT_gak"
    },
    {
      "cell_type": "code",
      "execution_count": null,
      "id": "d66da10d-f55b-41f9-8ed5-90adbbbf75c6",
      "metadata": {
        "tags": [],
        "id": "d66da10d-f55b-41f9-8ed5-90adbbbf75c6"
      },
      "outputs": [],
      "source": [
        "modis_collection = MODIS\n",
        "\n",
        "clusters = gdf[\"cluster\"].unique()\n",
        "\n",
        "# Create a function to extract NDVI values for a point\n",
        "def get_ndvi_for_point(feature):\n",
        "    point = feature.geometry()\n",
        "    ndvi_values = modis_collection.getRegion(point, scale=250).getInfo()\n",
        "    return ndvi_values\n",
        "\n",
        "# Loop through each cluster and extract NDVI values for each point\n",
        "ndvi_data = []\n",
        "\n",
        "for cluster in clusters:\n",
        "    cluster_gdf = gdf[gdf[\"cluster\"] == cluster]\n",
        "    for index, row in cluster_gdf.iterrows():\n",
        "        point = Point(row[\"geometry\"].x, row[\"geometry\"].y)\n",
        "        feature = ee.Feature(ee.Geometry.Point(point.x, point.y))\n",
        "        ndvi_values = get_ndvi_for_point(feature)\n",
        "\n",
        "        # Extract NDVI values for each scene\n",
        "        for scene_values in ndvi_values[1:]:\n",
        "            timestamp_milliseconds = int(scene_values[3])\n",
        "            timestamp_seconds = timestamp_milliseconds / 1000\n",
        "            dt_object = dt.utcfromtimestamp(timestamp_seconds)\n",
        "            formatted_date = dt_object.strftime('%Y-%m-%d')\n",
        "\n",
        "            scene_ndvi_values = scene_values[4:]\n",
        "            ndvi_data.append([cluster, point.x, point.y, formatted_date, *scene_ndvi_values])\n",
        "\n",
        "# Create a dataframe from the extracted data\n",
        "columns = [\"cluster\", \"longitude\", \"latitude\", \"date\"] + [\"NDVI\" + str(i) for i in range(1, len(ndvi_data[0]) - 3)]\n",
        "ndvi_df = pd.DataFrame(ndvi_data, columns=columns)"
      ]
    },
    {
      "cell_type": "code",
      "execution_count": null,
      "id": "81027c09-a405-4293-a6c5-26cb10b9aa04",
      "metadata": {
        "tags": [],
        "id": "81027c09-a405-4293-a6c5-26cb10b9aa04"
      },
      "outputs": [],
      "source": [
        "# Fill Nan values with -2000 (same as with the unmasking done before)\n",
        "ndvi_df = ndvi_df.fillna(-2000)"
      ]
    },
    {
      "cell_type": "code",
      "execution_count": null,
      "id": "69e9675a-341d-41b2-9a11-046ba61627a0",
      "metadata": {
        "id": "69e9675a-341d-41b2-9a11-046ba61627a0"
      },
      "outputs": [],
      "source": [
        "# Display the dataFrame (Optional)\n",
        "#ndvi_df"
      ]
    },
    {
      "cell_type": "code",
      "execution_count": null,
      "id": "30c67057-b259-40e7-8e70-70c8f5620b27",
      "metadata": {
        "tags": [],
        "id": "30c67057-b259-40e7-8e70-70c8f5620b27"
      },
      "outputs": [],
      "source": [
        "# Pivot the DataFrame to have one column per date\n",
        "pivot_df = ndvi_df.pivot_table(\n",
        "    index=[\"cluster\", \"longitude\", \"latitude\"],\n",
        "    columns=\"date\",\n",
        "    values=[\"NDVI1\"],  # List all the NDVI columns here\n",
        "    aggfunc=\"first\"  # You can adjust the aggregation function if needed\n",
        ")\n",
        "\n",
        "# Reset the index to make columns regular columns\n",
        "pivot_df.reset_index(inplace=True)\n",
        "\n",
        "# Display the pivoted DataFrame (Optional)\n",
        "#pivot_df"
      ]
    },
    {
      "cell_type": "markdown",
      "source": [
        "### Export data"
      ],
      "metadata": {
        "id": "t0Xsdgdh4FHe"
      },
      "id": "t0Xsdgdh4FHe"
    },
    {
      "cell_type": "code",
      "execution_count": null,
      "id": "bbe91137-c3af-41a2-99d4-c73538800e1b",
      "metadata": {
        "tags": [],
        "id": "bbe91137-c3af-41a2-99d4-c73538800e1b"
      },
      "outputs": [],
      "source": [
        "# Export the final csv\n",
        "pivot_df.to_csv(\"kmeans_ndvi_pivot.csv\", index=False)\n",
        "files.download('kmeans_ndvi_pivot.csv')\n",
        "\n",
        "# Optional\n",
        "#ndvi_df.to_csv(\"kmeans_ndvi.csv\", index=False)\n",
        "#files.download('kmeans_ndvi.cs')"
      ]
    }
  ],
  "metadata": {
    "kernelspec": {
      "display_name": "Python 3 (ipykernel)",
      "language": "python",
      "name": "python3"
    },
    "language_info": {
      "codemirror_mode": {
        "name": "ipython",
        "version": 3
      },
      "file_extension": ".py",
      "mimetype": "text/x-python",
      "name": "python",
      "nbconvert_exporter": "python",
      "pygments_lexer": "ipython3",
      "version": "3.11.0"
    },
    "colab": {
      "provenance": []
    }
  },
  "nbformat": 4,
  "nbformat_minor": 5
}