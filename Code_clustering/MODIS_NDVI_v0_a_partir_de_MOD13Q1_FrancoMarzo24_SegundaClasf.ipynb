{
  "cells": [
    {
      "cell_type": "markdown",
      "id": "2a97854e-1104-414c-8369-50568dcb916a",
      "metadata": {
        "id": "2a97854e-1104-414c-8369-50568dcb916a"
      },
      "source": [
        "# NDVI de Terra/MODIS Time Series Unsupervised Classification with Kmeans with GEE Python API (Second attempt)"
      ]
    },
    {
      "cell_type": "code",
      "source": [
        "# Install necessary packages in Colab\n",
        "!pip install rasterio"
      ],
      "metadata": {
        "id": "b5tWjYqh_9XX",
        "colab": {
          "base_uri": "https://localhost:8080/"
        },
        "outputId": "7a0eb11c-9275-41ba-ce2b-7db78bf81b35"
      },
      "id": "b5tWjYqh_9XX",
      "execution_count": 1,
      "outputs": [
        {
          "output_type": "stream",
          "name": "stdout",
          "text": [
            "Collecting rasterio\n",
            "  Downloading rasterio-1.4.3-cp311-cp311-manylinux_2_17_x86_64.manylinux2014_x86_64.whl.metadata (9.1 kB)\n",
            "Collecting affine (from rasterio)\n",
            "  Downloading affine-2.4.0-py3-none-any.whl.metadata (4.0 kB)\n",
            "Requirement already satisfied: attrs in /usr/local/lib/python3.11/dist-packages (from rasterio) (25.3.0)\n",
            "Requirement already satisfied: certifi in /usr/local/lib/python3.11/dist-packages (from rasterio) (2025.6.15)\n",
            "Requirement already satisfied: click>=4.0 in /usr/local/lib/python3.11/dist-packages (from rasterio) (8.2.1)\n",
            "Collecting cligj>=0.5 (from rasterio)\n",
            "  Downloading cligj-0.7.2-py3-none-any.whl.metadata (5.0 kB)\n",
            "Requirement already satisfied: numpy>=1.24 in /usr/local/lib/python3.11/dist-packages (from rasterio) (2.0.2)\n",
            "Collecting click-plugins (from rasterio)\n",
            "  Downloading click_plugins-1.1.1-py2.py3-none-any.whl.metadata (6.4 kB)\n",
            "Requirement already satisfied: pyparsing in /usr/local/lib/python3.11/dist-packages (from rasterio) (3.2.3)\n",
            "Downloading rasterio-1.4.3-cp311-cp311-manylinux_2_17_x86_64.manylinux2014_x86_64.whl (22.2 MB)\n",
            "\u001b[2K   \u001b[90m━━━━━━━━━━━━━━━━━━━━━━━━━━━━━━━━━━━━━━━━\u001b[0m \u001b[32m22.2/22.2 MB\u001b[0m \u001b[31m34.6 MB/s\u001b[0m eta \u001b[36m0:00:00\u001b[0m\n",
            "\u001b[?25hDownloading cligj-0.7.2-py3-none-any.whl (7.1 kB)\n",
            "Downloading affine-2.4.0-py3-none-any.whl (15 kB)\n",
            "Downloading click_plugins-1.1.1-py2.py3-none-any.whl (7.5 kB)\n",
            "Installing collected packages: cligj, click-plugins, affine, rasterio\n",
            "Successfully installed affine-2.4.0 click-plugins-1.1.1 cligj-0.7.2 rasterio-1.4.3\n"
          ]
        }
      ]
    },
    {
      "cell_type": "markdown",
      "id": "037221fb-50e6-4b34-a7d9-1c849edc0dbf",
      "metadata": {
        "id": "037221fb-50e6-4b34-a7d9-1c849edc0dbf"
      },
      "source": [
        "## Import libraries"
      ]
    },
    {
      "cell_type": "code",
      "execution_count": 2,
      "id": "95c7c71e-558b-4e8b-bc8e-a08c34d15cb3",
      "metadata": {
        "execution": {
          "iopub.execute_input": "2024-03-04T20:39:54.521712Z",
          "iopub.status.busy": "2024-03-04T20:39:54.521568Z",
          "iopub.status.idle": "2024-03-04T20:40:27.151349Z",
          "shell.execute_reply": "2024-03-04T20:40:27.151064Z",
          "shell.execute_reply.started": "2024-03-04T20:39:54.521701Z"
        },
        "tags": [],
        "id": "95c7c71e-558b-4e8b-bc8e-a08c34d15cb3"
      },
      "outputs": [],
      "source": [
        "import ee\n",
        "ee.Authenticate()\n",
        "ee.Initialize(project='ee-my-francodbarr') # NOTE: change according to your GEE project name"
      ]
    },
    {
      "cell_type": "code",
      "execution_count": 3,
      "id": "60f5e2f5-8601-4509-9132-e1610558357b",
      "metadata": {
        "execution": {
          "iopub.execute_input": "2024-03-04T20:40:53.832518Z",
          "iopub.status.busy": "2024-03-04T20:40:53.832359Z",
          "iopub.status.idle": "2024-03-04T20:40:54.559108Z",
          "shell.execute_reply": "2024-03-04T20:40:54.558733Z",
          "shell.execute_reply.started": "2024-03-04T20:40:53.832505Z"
        },
        "tags": [],
        "id": "60f5e2f5-8601-4509-9132-e1610558357b"
      },
      "outputs": [],
      "source": [
        "import pandas as pd\n",
        "import numpy as np\n",
        "from datetime import datetime as dt\n",
        "import geemap\n",
        "import geopandas as gpd\n",
        "from shapely.geometry import Polygon\n",
        "from shapely.geometry import shape\n",
        "from shapely.geometry import Point\n",
        "import rasterio\n",
        "import random\n",
        "from google.colab import files"
      ]
    },
    {
      "cell_type": "markdown",
      "source": [
        "## Data and layers importing"
      ],
      "metadata": {
        "id": "l4B9STFrxiBV"
      },
      "id": "l4B9STFrxiBV"
    },
    {
      "cell_type": "markdown",
      "source": [
        "### Clusters' first selection vector importing and conversion"
      ],
      "metadata": {
        "id": "wi24GxFe3Drq"
      },
      "id": "wi24GxFe3Drq"
    },
    {
      "cell_type": "code",
      "source": [
        "# Import vector file from the GH repo + unzipping\n",
        "!wget https://github.com/francobarrionuevoenv21/ClusteringPaddyFields_Fires_SanJavier/raw/refs/heads/main/Data_results/kmeans_seleccion_vectorizado_primerclasf.zip\n",
        "!unzip kmeans_seleccion_vectorizado_primerclasf"
      ],
      "metadata": {
        "collapsed": true,
        "id": "_nTfi4U53kyX",
        "outputId": "ec846f42-2f30-4884-fa41-3fe8faff5f90",
        "colab": {
          "base_uri": "https://localhost:8080/",
          "height": 416
        }
      },
      "id": "_nTfi4U53kyX",
      "execution_count": 4,
      "outputs": [
        {
          "output_type": "display_data",
          "data": {
            "text/plain": [
              "<IPython.core.display.HTML object>"
            ],
            "text/html": [
              "\n",
              "            <style>\n",
              "                .geemap-dark {\n",
              "                    --jp-widgets-color: white;\n",
              "                    --jp-widgets-label-color: white;\n",
              "                    --jp-ui-font-color1: white;\n",
              "                    --jp-layout-color2: #454545;\n",
              "                    background-color: #383838;\n",
              "                }\n",
              "\n",
              "                .geemap-dark .jupyter-button {\n",
              "                    --jp-layout-color3: #383838;\n",
              "                }\n",
              "\n",
              "                .geemap-colab {\n",
              "                    background-color: var(--colab-primary-surface-color, white);\n",
              "                }\n",
              "\n",
              "                .geemap-colab .jupyter-button {\n",
              "                    --jp-layout-color3: var(--colab-primary-surface-color, white);\n",
              "                }\n",
              "            </style>\n",
              "            "
            ]
          },
          "metadata": {}
        },
        {
          "output_type": "stream",
          "name": "stdout",
          "text": [
            "--2025-06-23 00:51:25--  https://github.com/francobarrionuevoenv21/ClusteringPaddyFields_Fires_SanJavier/raw/refs/heads/main/Data_results/kmeans_seleccion_vectorizado_primerclasf.zip\n",
            "Resolving github.com (github.com)... 140.82.116.4\n",
            "Connecting to github.com (github.com)|140.82.116.4|:443... connected.\n",
            "HTTP request sent, awaiting response... 302 Found\n",
            "Location: https://raw.githubusercontent.com/francobarrionuevoenv21/ClusteringPaddyFields_Fires_SanJavier/refs/heads/main/Data_results/kmeans_seleccion_vectorizado_primerclasf.zip [following]\n",
            "--2025-06-23 00:51:25--  https://raw.githubusercontent.com/francobarrionuevoenv21/ClusteringPaddyFields_Fires_SanJavier/refs/heads/main/Data_results/kmeans_seleccion_vectorizado_primerclasf.zip\n",
            "Resolving raw.githubusercontent.com (raw.githubusercontent.com)... 185.199.108.133, 185.199.109.133, 185.199.110.133, ...\n",
            "Connecting to raw.githubusercontent.com (raw.githubusercontent.com)|185.199.108.133|:443... connected.\n",
            "HTTP request sent, awaiting response... 200 OK\n",
            "Length: 32972 (32K) [application/zip]\n",
            "Saving to: ‘kmeans_seleccion_vectorizado_primerclasf.zip’\n",
            "\n",
            "kmeans_seleccion_ve 100%[===================>]  32.20K  --.-KB/s    in 0.005s  \n",
            "\n",
            "2025-06-23 00:51:25 (5.80 MB/s) - ‘kmeans_seleccion_vectorizado_primerclasf.zip’ saved [32972/32972]\n",
            "\n",
            "Archive:  kmeans_seleccion_vectorizado_primerclasf.zip\n",
            "  inflating: kmeans_seleccion_vectorizado.cpg  \n",
            "  inflating: kmeans_seleccion_vectorizado.dbf  \n",
            "  inflating: kmeans_seleccion_vectorizado.prj  \n",
            "  inflating: kmeans_seleccion_vectorizado.qmd  \n",
            "  inflating: kmeans_seleccion_vectorizado.shp  \n",
            "  inflating: kmeans_seleccion_vectorizado.shx  \n"
          ]
        }
      ]
    },
    {
      "cell_type": "code",
      "source": [
        "# Vector file reading\n",
        "targetCRS = \"EPSG:4326\"\n",
        "vectorClustSel = gpd.read_file('/content/kmeans_seleccion_vectorizado.shp').to_crs(targetCRS)"
      ],
      "metadata": {
        "id": "QM6uIqmu3Drr",
        "colab": {
          "base_uri": "https://localhost:8080/",
          "height": 17
        },
        "outputId": "f68a6357-e820-469d-8f38-7e2e1df3c764"
      },
      "execution_count": 7,
      "outputs": [
        {
          "output_type": "display_data",
          "data": {
            "text/plain": [
              "<IPython.core.display.HTML object>"
            ],
            "text/html": [
              "\n",
              "            <style>\n",
              "                .geemap-dark {\n",
              "                    --jp-widgets-color: white;\n",
              "                    --jp-widgets-label-color: white;\n",
              "                    --jp-ui-font-color1: white;\n",
              "                    --jp-layout-color2: #454545;\n",
              "                    background-color: #383838;\n",
              "                }\n",
              "\n",
              "                .geemap-dark .jupyter-button {\n",
              "                    --jp-layout-color3: #383838;\n",
              "                }\n",
              "\n",
              "                .geemap-colab {\n",
              "                    background-color: var(--colab-primary-surface-color, white);\n",
              "                }\n",
              "\n",
              "                .geemap-colab .jupyter-button {\n",
              "                    --jp-layout-color3: var(--colab-primary-surface-color, white);\n",
              "                }\n",
              "            </style>\n",
              "            "
            ]
          },
          "metadata": {}
        }
      ],
      "id": "QM6uIqmu3Drr"
    },
    {
      "cell_type": "code",
      "source": [
        "# Plot and check vector data\n",
        "vectorClustSel.plot(column='DN')"
      ],
      "metadata": {
        "id": "Gw8WyROw4WVH",
        "colab": {
          "base_uri": "https://localhost:8080/",
          "height": 447
        },
        "outputId": "22a8a0c9-31b2-4bbc-cba5-3c5f9ca7f6e5"
      },
      "id": "Gw8WyROw4WVH",
      "execution_count": 11,
      "outputs": [
        {
          "output_type": "display_data",
          "data": {
            "text/plain": [
              "<IPython.core.display.HTML object>"
            ],
            "text/html": [
              "\n",
              "            <style>\n",
              "                .geemap-dark {\n",
              "                    --jp-widgets-color: white;\n",
              "                    --jp-widgets-label-color: white;\n",
              "                    --jp-ui-font-color1: white;\n",
              "                    --jp-layout-color2: #454545;\n",
              "                    background-color: #383838;\n",
              "                }\n",
              "\n",
              "                .geemap-dark .jupyter-button {\n",
              "                    --jp-layout-color3: #383838;\n",
              "                }\n",
              "\n",
              "                .geemap-colab {\n",
              "                    background-color: var(--colab-primary-surface-color, white);\n",
              "                }\n",
              "\n",
              "                .geemap-colab .jupyter-button {\n",
              "                    --jp-layout-color3: var(--colab-primary-surface-color, white);\n",
              "                }\n",
              "            </style>\n",
              "            "
            ]
          },
          "metadata": {}
        },
        {
          "output_type": "execute_result",
          "data": {
            "text/plain": [
              "<Axes: >"
            ]
          },
          "metadata": {},
          "execution_count": 11
        },
        {
          "output_type": "display_data",
          "data": {
            "text/plain": [
              "<Figure size 640x480 with 1 Axes>"
            ],
            "image/png": "[encoded data removed]"
          },
          "metadata": {}
        }
      ]
    },
    {
      "cell_type": "code",
      "source": [
        "# getCoordsSHP function\n",
        "def getCoordsSHP(gdfshpFile):\n",
        "  '''\n",
        "  This function takes a polygon vector file passed as a GeoDataFrame. Then\n",
        "  it returns all the coordinates as a tuple of tuples.\n",
        "  '''\n",
        "\n",
        "  gdfiterf = gdfshpFile.iterfeatures()\n",
        "  tupleFile = next(gdfiterf)['geometry']['coordinates']\n",
        "\n",
        "  return tupleFile\n",
        "\n",
        "# Get ids of each polygon\n",
        "listIDs = list(vectorClustSel['fid'])\n",
        "\n",
        "# Create a empty list to fill with ee polygons\n",
        "listPolys = []\n",
        "\n",
        "# Extracts coordinates from each polygon and convert to ee polygons\n",
        "for ID in listIDs:\n",
        "  listOfLists = [list(coords) for coords in getCoordsSHP(vectorClustSel[vectorClustSel['fid']==ID])[0]] # Get vector coordinates as a tuple of tuples\n",
        "  listPolys.append(ee.Geometry.Polygon(listOfLists)) # Coordinates to a EE.Polygon\n",
        "\n",
        "# Convert polygons to feature collection\n",
        "featureCollection02 = ee.FeatureCollection(listPolys)"
      ],
      "metadata": {
        "id": "XY1i9ZRSDf7o",
        "colab": {
          "base_uri": "https://localhost:8080/",
          "height": 17
        },
        "outputId": "86819144-651e-4399-ab83-33cae415a198"
      },
      "execution_count": 12,
      "outputs": [
        {
          "output_type": "display_data",
          "data": {
            "text/plain": [
              "<IPython.core.display.HTML object>"
            ],
            "text/html": [
              "\n",
              "            <style>\n",
              "                .geemap-dark {\n",
              "                    --jp-widgets-color: white;\n",
              "                    --jp-widgets-label-color: white;\n",
              "                    --jp-ui-font-color1: white;\n",
              "                    --jp-layout-color2: #454545;\n",
              "                    background-color: #383838;\n",
              "                }\n",
              "\n",
              "                .geemap-dark .jupyter-button {\n",
              "                    --jp-layout-color3: #383838;\n",
              "                }\n",
              "\n",
              "                .geemap-colab {\n",
              "                    background-color: var(--colab-primary-surface-color, white);\n",
              "                }\n",
              "\n",
              "                .geemap-colab .jupyter-button {\n",
              "                    --jp-layout-color3: var(--colab-primary-surface-color, white);\n",
              "                }\n",
              "            </style>\n",
              "            "
            ]
          },
          "metadata": {}
        }
      ],
      "id": "XY1i9ZRSDf7o"
    },
    {
      "cell_type": "markdown",
      "source": [
        "### MODIS NDVI data retrieving from GEE catalog\n",
        "#### https://developers.google.com/earth-engine/datasets/catalog/MODIS_061_MOD13Q1"
      ],
      "metadata": {
        "id": "nLo__3wZYLBQ"
      },
      "id": "nLo__3wZYLBQ"
    },
    {
      "cell_type": "code",
      "execution_count": 17,
      "id": "1f145dcc-3a79-4430-9d86-fbb9fca15421",
      "metadata": {
        "execution": {
          "iopub.execute_input": "2024-03-04T20:43:23.732387Z",
          "iopub.status.busy": "2024-03-04T20:43:23.732247Z",
          "iopub.status.idle": "2024-03-04T20:43:25.231874Z",
          "shell.execute_reply": "2024-03-04T20:43:25.231566Z",
          "shell.execute_reply.started": "2024-03-04T20:43:23.732376Z"
        },
        "tags": [],
        "id": "1f145dcc-3a79-4430-9d86-fbb9fca15421",
        "colab": {
          "base_uri": "https://localhost:8080/",
          "height": 138
        },
        "outputId": "b8ef3b55-84b8-4e45-a038-9b89f9109718"
      },
      "outputs": [
        {
          "output_type": "display_data",
          "data": {
            "text/plain": [
              "<IPython.core.display.HTML object>"
            ],
            "text/html": [
              "\n",
              "            <style>\n",
              "                .geemap-dark {\n",
              "                    --jp-widgets-color: white;\n",
              "                    --jp-widgets-label-color: white;\n",
              "                    --jp-ui-font-color1: white;\n",
              "                    --jp-layout-color2: #454545;\n",
              "                    background-color: #383838;\n",
              "                }\n",
              "\n",
              "                .geemap-dark .jupyter-button {\n",
              "                    --jp-layout-color3: #383838;\n",
              "                }\n",
              "\n",
              "                .geemap-colab {\n",
              "                    background-color: var(--colab-primary-surface-color, white);\n",
              "                }\n",
              "\n",
              "                .geemap-colab .jupyter-button {\n",
              "                    --jp-layout-color3: var(--colab-primary-surface-color, white);\n",
              "                }\n",
              "            </style>\n",
              "            "
            ]
          },
          "metadata": {}
        },
        {
          "output_type": "stream",
          "name": "stderr",
          "text": [
            "/usr/local/lib/python3.11/dist-packages/ee/deprecation.py:207: DeprecationWarning: \n",
            "\n",
            "Attention required for MODIS/006/MOD13Q1! You are using a deprecated asset.\n",
            "To make sure your code keeps working, please update it.\n",
            "Learn more: https://developers.google.com/earth-engine/datasets/catalog/MODIS_006_MOD13Q1\n",
            "\n",
            "  warnings.warn(warning, category=DeprecationWarning)\n"
          ]
        }
      ],
      "source": [
        "# MODIS MOD13Q1 NDVI data selection\n",
        "MODIS = ee.ImageCollection('MODIS/006/MOD13Q1').select('NDVI') # MOD13Q1.061 Terra Vegetation Indices 16-Day Global 250m\n",
        "\n",
        "# Time range selection\n",
        "startDate = '2000-02-18'\n",
        "endDate = '2022-12-31'\n",
        "\n",
        "# Image collection filtering by time range\n",
        "MODIS = MODIS.filterDate(startDate, endDate)"
      ]
    },
    {
      "cell_type": "code",
      "execution_count": 18,
      "id": "e96358c4-d132-46fe-9270-b6a538a1cd73",
      "metadata": {
        "execution": {
          "iopub.execute_input": "2024-03-04T20:47:53.655071Z",
          "iopub.status.busy": "2024-03-04T20:47:53.654920Z",
          "iopub.status.idle": "2024-03-04T20:47:53.658519Z",
          "shell.execute_reply": "2024-03-04T20:47:53.658161Z",
          "shell.execute_reply.started": "2024-03-04T20:47:53.655061Z"
        },
        "tags": [],
        "id": "e96358c4-d132-46fe-9270-b6a538a1cd73",
        "colab": {
          "base_uri": "https://localhost:8080/",
          "height": 52
        },
        "outputId": "d26aed2b-3e7c-4e83-be0c-aebaeb0ee229"
      },
      "outputs": [
        {
          "output_type": "display_data",
          "data": {
            "text/plain": [
              "<IPython.core.display.HTML object>"
            ],
            "text/html": [
              "\n",
              "            <style>\n",
              "                .geemap-dark {\n",
              "                    --jp-widgets-color: white;\n",
              "                    --jp-widgets-label-color: white;\n",
              "                    --jp-ui-font-color1: white;\n",
              "                    --jp-layout-color2: #454545;\n",
              "                    background-color: #383838;\n",
              "                }\n",
              "\n",
              "                .geemap-dark .jupyter-button {\n",
              "                    --jp-layout-color3: #383838;\n",
              "                }\n",
              "\n",
              "                .geemap-colab {\n",
              "                    background-color: var(--colab-primary-surface-color, white);\n",
              "                }\n",
              "\n",
              "                .geemap-colab .jupyter-button {\n",
              "                    --jp-layout-color3: var(--colab-primary-surface-color, white);\n",
              "                }\n",
              "            </style>\n",
              "            "
            ]
          },
          "metadata": {}
        },
        {
          "output_type": "stream",
          "name": "stdout",
          "text": [
            "<class 'ee.imagecollection.ImageCollection'>\n",
            "526\n"
          ]
        }
      ],
      "source": [
        "# Check data retrieving\n",
        "print(type(MODIS))\n",
        "print(MODIS.size().getInfo())"
      ]
    },
    {
      "cell_type": "code",
      "execution_count": 19,
      "id": "371e78f1-8b8b-40ea-b867-fe0debba660d",
      "metadata": {
        "execution": {
          "iopub.execute_input": "2024-03-04T20:48:08.062671Z",
          "iopub.status.busy": "2024-03-04T20:48:08.062505Z",
          "iopub.status.idle": "2024-03-04T20:48:09.542990Z",
          "shell.execute_reply": "2024-03-04T20:48:09.542277Z",
          "shell.execute_reply.started": "2024-03-04T20:48:08.062659Z"
        },
        "tags": [],
        "id": "371e78f1-8b8b-40ea-b867-fe0debba660d",
        "colab": {
          "base_uri": "https://localhost:8080/",
          "height": 17
        },
        "outputId": "f4616a01-6769-4e50-c6d2-14cfb9226c4b"
      },
      "outputs": [
        {
          "output_type": "display_data",
          "data": {
            "text/plain": [
              "<IPython.core.display.HTML object>"
            ],
            "text/html": [
              "\n",
              "            <style>\n",
              "                .geemap-dark {\n",
              "                    --jp-widgets-color: white;\n",
              "                    --jp-widgets-label-color: white;\n",
              "                    --jp-ui-font-color1: white;\n",
              "                    --jp-layout-color2: #454545;\n",
              "                    background-color: #383838;\n",
              "                }\n",
              "\n",
              "                .geemap-dark .jupyter-button {\n",
              "                    --jp-layout-color3: #383838;\n",
              "                }\n",
              "\n",
              "                .geemap-colab {\n",
              "                    background-color: var(--colab-primary-surface-color, white);\n",
              "                }\n",
              "\n",
              "                .geemap-colab .jupyter-button {\n",
              "                    --jp-layout-color3: var(--colab-primary-surface-color, white);\n",
              "                }\n",
              "            </style>\n",
              "            "
            ]
          },
          "metadata": {}
        }
      ],
      "source": [
        "# Define a function to unmask the NDVI band\n",
        "def unmaskNDVI(image):\n",
        "    return image.select('NDVI').unmask(-2000)\n",
        "\n",
        "# Map the unmask function over the entire collection\n",
        "MODIS_unmasked = MODIS.map(unmaskNDVI)"
      ]
    },
    {
      "cell_type": "code",
      "source": [
        "# Convert the image collection to a stack of images\n",
        "MODIS_stack = MODIS_unmasked.toBands()\n",
        "print(type(MODIS_stack))"
      ],
      "metadata": {
        "colab": {
          "base_uri": "https://localhost:8080/",
          "height": 34
        },
        "id": "jB6UpXgpYqYi",
        "outputId": "18357cb5-851f-41d9-bb57-cb81aeea8e00"
      },
      "id": "jB6UpXgpYqYi",
      "execution_count": 20,
      "outputs": [
        {
          "output_type": "display_data",
          "data": {
            "text/plain": [
              "<IPython.core.display.HTML object>"
            ],
            "text/html": [
              "\n",
              "            <style>\n",
              "                .geemap-dark {\n",
              "                    --jp-widgets-color: white;\n",
              "                    --jp-widgets-label-color: white;\n",
              "                    --jp-ui-font-color1: white;\n",
              "                    --jp-layout-color2: #454545;\n",
              "                    background-color: #383838;\n",
              "                }\n",
              "\n",
              "                .geemap-dark .jupyter-button {\n",
              "                    --jp-layout-color3: #383838;\n",
              "                }\n",
              "\n",
              "                .geemap-colab {\n",
              "                    background-color: var(--colab-primary-surface-color, white);\n",
              "                }\n",
              "\n",
              "                .geemap-colab .jupyter-button {\n",
              "                    --jp-layout-color3: var(--colab-primary-surface-color, white);\n",
              "                }\n",
              "            </style>\n",
              "            "
            ]
          },
          "metadata": {}
        },
        {
          "output_type": "stream",
          "name": "stdout",
          "text": [
            "<class 'ee.image.Image'>\n"
          ]
        }
      ]
    },
    {
      "cell_type": "code",
      "source": [
        "# Clip the stack of images according to the study area\n",
        "MODIS_stack = MODIS_stack.clipToCollection(featureCollection02)"
      ],
      "metadata": {
        "colab": {
          "base_uri": "https://localhost:8080/",
          "height": 17
        },
        "id": "I3BRKyVHYqoJ",
        "outputId": "162ee79d-0b5c-436b-da07-42ede9acadc3"
      },
      "id": "I3BRKyVHYqoJ",
      "execution_count": 21,
      "outputs": [
        {
          "output_type": "display_data",
          "data": {
            "text/plain": [
              "<IPython.core.display.HTML object>"
            ],
            "text/html": [
              "\n",
              "            <style>\n",
              "                .geemap-dark {\n",
              "                    --jp-widgets-color: white;\n",
              "                    --jp-widgets-label-color: white;\n",
              "                    --jp-ui-font-color1: white;\n",
              "                    --jp-layout-color2: #454545;\n",
              "                    background-color: #383838;\n",
              "                }\n",
              "\n",
              "                .geemap-dark .jupyter-button {\n",
              "                    --jp-layout-color3: #383838;\n",
              "                }\n",
              "\n",
              "                .geemap-colab {\n",
              "                    background-color: var(--colab-primary-surface-color, white);\n",
              "                }\n",
              "\n",
              "                .geemap-colab .jupyter-button {\n",
              "                    --jp-layout-color3: var(--colab-primary-surface-color, white);\n",
              "                }\n",
              "            </style>\n",
              "            "
            ]
          },
          "metadata": {}
        }
      ]
    },
    {
      "cell_type": "code",
      "source": [
        "# Generate interactive map to check images clipping\n",
        "Map = geemap.Map(center=(-30.78, -60.12), zoom=9)\n",
        "Map.addLayer(MODIS_stack.select(0), {'min': -2000, 'max': 10000, 'palette': ['yellow', 'red']}) # Add visualization parameters\n",
        "\n",
        "Map"
      ],
      "metadata": {
        "colab": {
          "base_uri": "https://localhost:8080/",
          "height": 621,
          "referenced_widgets": [
            "51cbd67f724c4fa48582e159730af819",
            "5140c9a94c774283bc785be0a729d180",
            "0a0619290c754986b5f2dfe8c0d9c631",
            "5cdbada6dba14623858623cbcb3e7db5",
            "4059c37ee2ca43acb3473134b07f6bcc",
            "f6ab19f13d52416bb729756542a66eab",
            "cda28aec11b546deb5df11ce2d0cc4bd",
            "68a5dd6b9b6643069c4190eb926c4620",
            "e9009bcee0db45f9adb4ef63c8902014",
            "7738851e2a3340d181486d1128ed68cd",
            "286c54ee69f94ec0aea7596e9f9c1cb0",
            "6822714efd4b45e9a00a5d94a62e7694",
            "beef3fbb61e84ab6a01c72ec0a26567d",
            "318df3ef135247458a69899ebf80045f",
            "d764c1fc7355447e8f49cb8817e5e5fe",
            "bdc9f9d5d87c4762a6581da293affc6c",
            "64a18016a4504656b10b329fd632df0f",
            "fe2c6e72354d40ecb5eb37d2efa3c940",
            "3c2e4cbb68794689bfd8bbbd2af3ae16",
            "7ac4df2ecad243799569b4bf7fd39593",
            "e3df841cf1e34b09894c61267ecf0ff9",
            "c02e284d37bc491eab4bcfd83295fdeb",
            "9118be13eec2404bb0b263a9f8b99ddd",
            "a9c9d39eb249430bb4671201110e2c0d",
            "5806ccc6fde7421ba413e4a943f7672c",
            "04b0c21dfff24ba38ea33a49375c55e0",
            "de134061ce9545538aed801c043da439",
            "7bd20a981ba641709c124dee6a96af26",
            "9b23f75b93d44ff788408371c58559b5",
            "ac80b6ff618d45dea097439a55907cf8",
            "d9a05dcaf377466d9834d2a5827d0647",
            "2efe5adb01aa4e1081230812852c289b",
            "4707ec26ccce4a1b8f9adb0cf09ed245",
            "4a2669095de849fe93b7c89bf0306013",
            "81793ea4a59e498ca50f2f10c5296e78",
            "8ce185cf919c46fc9c1f1d34f15afc39",
            "7a3300c63f394dcea25947e61a3ba262",
            "9428606ba9644b9d84ee58cd1d54477a",
            "86bbc35700c84a109af6144da9b02e63",
            "908867ce7c81471d9a5d645a3ccf2b01",
            "2509d012aef341279ae871e3225439eb",
            "002b7ba21c384915808cd54d7d226fc4",
            "9e4075d68e714454a86f6a9551aed4b8",
            "77087d59c3f645559e30c976f0f91777",
            "ad19b6ebff5943f28acc1d8372c7e552",
            "7828365c78af4bc1980f82cead79def8",
            "f8fafcfbbce84579ac58651fb4142b42",
            "75c76c300a3846049871ca595bb0a3e1",
            "8ab12e0a7afb49eeb0213592e0a4e045",
            "709baf325b6a48f38f250f434ae5c04b",
            "d67862839be34820bfefb2248289ef61",
            "18db867ceb504ff4b67e7066d29620c8",
            "a8f44a81d72e46fc8bfcd5488e78ad96",
            "71edb75b84f9470f92b47718a912c23c",
            "6a30e3f3cfcb42ffbaef338312501f30",
            "fe9e1d4dbb004c88902ddfa159402c68",
            "c426f0f7e28040acb65efa306131e973",
            "d487b81955654333be1c887bea74dc3b",
            "9a89ca1c30b1440cb200c75668a359f6",
            "44763cbf0e7f456680e1f473cce4dcd1",
            "f5137ad338744e2e8b896f8e2005dd69",
            "db6e17e068c843f1866b527b906560f8",
            "ec8b0f5b3005497aba0a5e8b0f801eb3",
            "933bfe5dc41842398ab37a0d84cf8dbc",
            "496f9e815edb48fc80412c277c6004d0",
            "821f2e4d8b4d49388256bb123181a2d8",
            "2aa9199ea1f747568797dda61fb6b56a",
            "10e5797786b049cbbc2c69f1adba36c8",
            "5f375580ee9d4c258e52d0ef5fe88b1b",
            "fe6607f4a88c43e2be4d9f0dd723bc82",
            "e279679ff3fe443cab482676fc6196d0",
            "64c6940c0f9b411b8c55d8fc1222671f",
            "2f9fea9c0d65443f861c7ed063c2f658",
            "09717e319398450391d5a7b61ac6bd7a",
            "3497b56d94b54a63a50eec2f23bbb72d"
          ]
        },
        "id": "YISm3qmVYqq8",
        "outputId": "775abe0a-916a-4580-c3ac-50fa13741500"
      },
      "id": "YISm3qmVYqq8",
      "execution_count": 42,
      "outputs": [
        {
          "output_type": "display_data",
          "data": {
            "text/plain": [
              "<IPython.core.display.HTML object>"
            ],
            "text/html": [
              "\n",
              "            <style>\n",
              "                .geemap-dark {\n",
              "                    --jp-widgets-color: white;\n",
              "                    --jp-widgets-label-color: white;\n",
              "                    --jp-ui-font-color1: white;\n",
              "                    --jp-layout-color2: #454545;\n",
              "                    background-color: #383838;\n",
              "                }\n",
              "\n",
              "                .geemap-dark .jupyter-button {\n",
              "                    --jp-layout-color3: #383838;\n",
              "                }\n",
              "\n",
              "                .geemap-colab {\n",
              "                    background-color: var(--colab-primary-surface-color, white);\n",
              "                }\n",
              "\n",
              "                .geemap-colab .jupyter-button {\n",
              "                    --jp-layout-color3: var(--colab-primary-surface-color, white);\n",
              "                }\n",
              "            </style>\n",
              "            "
            ]
          },
          "metadata": {}
        },
        {
          "output_type": "display_data",
          "data": {
            "text/plain": [
              "Map(center=[-30.78, -60.12], controls=(WidgetControl(options=['position', 'transparent_bg'], widget=SearchData…"
            ],
            "application/vnd.jupyter.widget-view+json": {
              "version_major": 2,
              "version_minor": 0,
              "model_id": "51cbd67f724c4fa48582e159730af819"
            }
          },
          "metadata": {
            "application/vnd.jupyter.widget-view+json": {
              "colab": {
                "custom_widget_manager": {
                  "url": "https://ssl.gstatic.com/colaboratory-static/widgets/colab-cdn-widget-manager/2b70e893a8ba7c0f/manager.min.js"
                }
              }
            }
          }
        }
      ]
    },
    {
      "cell_type": "markdown",
      "source": [
        "## K-means classification of the study area\n",
        "#### Kmeans in GEE description: https://developers.google.com/earth-engine/guides/clustering"
      ],
      "metadata": {
        "id": "K7VVVV9pkqAN"
      },
      "id": "K7VVVV9pkqAN"
    },
    {
      "cell_type": "markdown",
      "source": [
        "### Initialization/training dataset"
      ],
      "metadata": {
        "id": "qd8UJ4KxkxJI"
      },
      "id": "qd8UJ4KxkxJI"
    },
    {
      "cell_type": "code",
      "execution_count": null,
      "id": "2375393e-2a96-4b44-9fe3-8d150c5926f6",
      "metadata": {
        "execution": {
          "iopub.execute_input": "2024-03-04T20:48:18.992072Z",
          "iopub.status.busy": "2024-03-04T20:48:18.991639Z",
          "iopub.status.idle": "2024-03-04T20:48:18.995604Z",
          "shell.execute_reply": "2024-03-04T20:48:18.995306Z",
          "shell.execute_reply.started": "2024-03-04T20:48:18.992036Z"
        },
        "tags": [],
        "id": "2375393e-2a96-4b44-9fe3-8d150c5926f6"
      },
      "outputs": [],
      "source": [
        "'''\n",
        "NOTE: Running the Kmeans algorithm in GEE requires random training points as input\n",
        "'''\n",
        "\n",
        "# Define the region to generate the input sample\n",
        "region = featureCollection02\n",
        "# Pixel spatial resolution in meters\n",
        "scale = 250\n",
        "# Number of initialization/training points\n",
        "numPixels = 5000\n",
        "\n",
        "# Make the training dataset\n",
        "MODIS_randomtraining = MODIS_stack.sample(region=region, scale=scale, numPixels=numPixels)"
      ]
    },
    {
      "cell_type": "markdown",
      "source": [
        "### Study area classification"
      ],
      "metadata": {
        "id": "aSlPbK6WmabQ"
      },
      "id": "aSlPbK6WmabQ"
    },
    {
      "cell_type": "code",
      "source": [
        "'''\n",
        "NOTE: The criteria for the number of classification clusters was defined as\n",
        "80% of the prior classification types\n",
        "'''\n",
        "# Define the number of clusters for classification\n",
        "num_clusters = 40\n",
        "seed = 42\n",
        "\n",
        "# Train the Kmeans classifier\n",
        "kmeans = ee.Clusterer.wekaKMeans(num_clusters, seed=seed).train(MODIS_randomtraining)"
      ],
      "metadata": {
        "id": "U0-0NcltmYkg"
      },
      "id": "U0-0NcltmYkg",
      "execution_count": null,
      "outputs": []
    },
    {
      "cell_type": "code",
      "execution_count": null,
      "id": "37d1074b-5933-4f81-bdd8-2c131169aac2",
      "metadata": {
        "tags": [],
        "id": "37d1074b-5933-4f81-bdd8-2c131169aac2"
      },
      "outputs": [],
      "source": [
        "# Apply the classifier over the stack of images (Time series classification)\n",
        "MODIS_kmeans = MODIS_stack.cluster(kmeans) # Pixels are classified as 0 to n_clusters-1\n",
        "MODIS_kmeans = MODIS_kmeans.add(1) # Sum 1 so the first cluster id different to 0\n",
        "\n",
        "# Clip the image classified according to vector of the study area\n",
        "MODIS_kmeans = MODIS_kmeans.clip(featureCollection02)"
      ]
    },
    {
      "cell_type": "code",
      "execution_count": null,
      "id": "4ae1fe3f-5950-4d89-81eb-3c7d63dc041f",
      "metadata": {
        "tags": [],
        "id": "4ae1fe3f-5950-4d89-81eb-3c7d63dc041f"
      },
      "outputs": [],
      "source": [
        "# Check image output format\n",
        "print(type(MODIS_kmeans))"
      ]
    },
    {
      "cell_type": "markdown",
      "source": [
        "### Output visualization"
      ],
      "metadata": {
        "id": "o7q_pkYtu_TI"
      },
      "id": "o7q_pkYtu_TI"
    },
    {
      "cell_type": "code",
      "execution_count": null,
      "id": "1b16d004-02c1-4db6-a798-5ea2e2966670",
      "metadata": {
        "tags": [],
        "id": "1b16d004-02c1-4db6-a798-5ea2e2966670",
        "collapsed": true
      },
      "outputs": [],
      "source": [
        "Map = geemap.Map(center=(-32.06, -60.62), zoom=9)\n",
        "Map.addLayer(MODIS_kmeans)\n",
        "\n",
        "Map"
      ]
    },
    {
      "cell_type": "markdown",
      "source": [
        "### Export the final classification"
      ],
      "metadata": {
        "id": "b_czs4FlvCD5"
      },
      "id": "b_czs4FlvCD5"
    },
    {
      "cell_type": "code",
      "source": [
        "'''\n",
        "Tutorial for large images exporting from GEE\n",
        "https://worldbank.github.io/OpenNightLights/tutorials/mod3_7_import_export_data.html\n",
        "'''\n",
        "\n",
        "task = ee.batch.Export.image.toDrive(\n",
        "        image = MODIS_kmeans.toDouble(),\n",
        "        scale=scale,\n",
        "        region = featureCollection02.geometry().bounds(), # Or use custom ee.Geometry.Rectangle([minlon, minlat, maxlon, maxlat])\n",
        "        description = 'MODIS_MOD13Q1_NDVI_kmeans40-24-03.tif', # Define the name of the exported file\n",
        "        crs = 'EPSG:4326',\n",
        "        maxPixels = 1e10, # Avoid limits in memory usage\n",
        "        fileFormat = \"GeoTIFF\",\n",
        "        folder ='earthengine'\n",
        "  )\n",
        "\n",
        "task.start() # Find the final image in Google Drive folder"
      ],
      "metadata": {
        "id": "Xf7H_5Z8YSGQ"
      },
      "id": "Xf7H_5Z8YSGQ",
      "execution_count": null,
      "outputs": []
    },
    {
      "cell_type": "markdown",
      "id": "3b3bb87e-835e-4e24-9865-d384f7545b7f",
      "metadata": {
        "id": "3b3bb87e-835e-4e24-9865-d384f7545b7f"
      },
      "source": [
        "## Summary of cluster's classes\n",
        "\n",
        "#### Data sampling to reconstruct the timeseries of each classification"
      ]
    },
    {
      "cell_type": "code",
      "source": [
        "# Import image with the classification from the GH repo\n",
        "# If any error with the link, you can find the file here: https://github.com/francobarrionuevoenv21/ClusteringPaddyFields_Fires_SanJavier/blob/main/Data_results/03_MODIS_MOD13Q1_NDVI_kmeans40-24-03-integer.tif\n",
        "!wget https://github.com/francobarrionuevoenv21/ClusteringPaddyFields_Fires_SanJavier/raw/refs/heads/main/Data_results/03_MODIS_MOD13Q1_NDVI_kmeans40-24-03-integer.tif"
      ],
      "metadata": {
        "id": "K2q5b8DwTDZn",
        "colab": {
          "base_uri": "https://localhost:8080/",
          "height": 295
        },
        "outputId": "e5bf42cf-9b0f-4641-b743-fa12048a7776"
      },
      "id": "K2q5b8DwTDZn",
      "execution_count": 46,
      "outputs": [
        {
          "output_type": "display_data",
          "data": {
            "text/plain": [
              "<IPython.core.display.HTML object>"
            ],
            "text/html": [
              "\n",
              "            <style>\n",
              "                .geemap-dark {\n",
              "                    --jp-widgets-color: white;\n",
              "                    --jp-widgets-label-color: white;\n",
              "                    --jp-ui-font-color1: white;\n",
              "                    --jp-layout-color2: #454545;\n",
              "                    background-color: #383838;\n",
              "                }\n",
              "\n",
              "                .geemap-dark .jupyter-button {\n",
              "                    --jp-layout-color3: #383838;\n",
              "                }\n",
              "\n",
              "                .geemap-colab {\n",
              "                    background-color: var(--colab-primary-surface-color, white);\n",
              "                }\n",
              "\n",
              "                .geemap-colab .jupyter-button {\n",
              "                    --jp-layout-color3: var(--colab-primary-surface-color, white);\n",
              "                }\n",
              "            </style>\n",
              "            "
            ]
          },
          "metadata": {}
        },
        {
          "output_type": "stream",
          "name": "stdout",
          "text": [
            "--2025-06-23 03:29:17--  https://github.com/francobarrionuevoenv21/ClusteringPaddyFields_Fires_SanJavier/raw/refs/heads/main/Data_results/03_MODIS_MOD13Q1_NDVI_kmeans40-24-03-integer.tif\n",
            "Resolving github.com (github.com)... 140.82.116.4\n",
            "Connecting to github.com (github.com)|140.82.116.4|:443... connected.\n",
            "HTTP request sent, awaiting response... 302 Found\n",
            "Location: https://raw.githubusercontent.com/francobarrionuevoenv21/ClusteringPaddyFields_Fires_SanJavier/refs/heads/main/Data_results/03_MODIS_MOD13Q1_NDVI_kmeans40-24-03-integer.tif [following]\n",
            "--2025-06-23 03:29:17--  https://raw.githubusercontent.com/francobarrionuevoenv21/ClusteringPaddyFields_Fires_SanJavier/refs/heads/main/Data_results/03_MODIS_MOD13Q1_NDVI_kmeans40-24-03-integer.tif\n",
            "Resolving raw.githubusercontent.com (raw.githubusercontent.com)... 185.199.108.133, 185.199.109.133, 185.199.110.133, ...\n",
            "Connecting to raw.githubusercontent.com (raw.githubusercontent.com)|185.199.108.133|:443... connected.\n",
            "HTTP request sent, awaiting response... 200 OK\n",
            "Length: 186926 (183K) [image/tiff]\n",
            "Saving to: ‘03_MODIS_MOD13Q1_NDVI_kmeans40-24-03-integer.tif’\n",
            "\n",
            "03_MODIS_MOD13Q1_ND 100%[===================>] 182.54K  --.-KB/s    in 0.02s   \n",
            "\n",
            "2025-06-23 03:29:17 (9.32 MB/s) - ‘03_MODIS_MOD13Q1_NDVI_kmeans40-24-03-integer.tif’ saved [186926/186926]\n",
            "\n"
          ]
        }
      ]
    },
    {
      "cell_type": "code",
      "source": [
        "# Load raster classification\n",
        "raster_file = \"/content/03_MODIS_MOD13Q1_NDVI_kmeans40-24-03-integer.tif\"\n",
        "with rasterio.open(raster_file) as src:\n",
        "    classification = src.read(1)\n",
        "    transform = src.transform\n",
        "    num_clusters = len(np.unique(classification))"
      ],
      "metadata": {
        "id": "5yQJlZVIM4Ll",
        "colab": {
          "base_uri": "https://localhost:8080/",
          "height": 17
        },
        "outputId": "65d042fb-f7d2-406f-c312-1d6514907cde"
      },
      "id": "5yQJlZVIM4Ll",
      "execution_count": 47,
      "outputs": [
        {
          "output_type": "display_data",
          "data": {
            "text/plain": [
              "<IPython.core.display.HTML object>"
            ],
            "text/html": [
              "\n",
              "            <style>\n",
              "                .geemap-dark {\n",
              "                    --jp-widgets-color: white;\n",
              "                    --jp-widgets-label-color: white;\n",
              "                    --jp-ui-font-color1: white;\n",
              "                    --jp-layout-color2: #454545;\n",
              "                    background-color: #383838;\n",
              "                }\n",
              "\n",
              "                .geemap-dark .jupyter-button {\n",
              "                    --jp-layout-color3: #383838;\n",
              "                }\n",
              "\n",
              "                .geemap-colab {\n",
              "                    background-color: var(--colab-primary-surface-color, white);\n",
              "                }\n",
              "\n",
              "                .geemap-colab .jupyter-button {\n",
              "                    --jp-layout-color3: var(--colab-primary-surface-color, white);\n",
              "                }\n",
              "            </style>\n",
              "            "
            ]
          },
          "metadata": {}
        }
      ]
    },
    {
      "cell_type": "markdown",
      "source": [
        "### Create a dataset with random sampling points of the obtained classification"
      ],
      "metadata": {
        "id": "DiMqDiaf3TBI"
      },
      "id": "DiMqDiaf3TBI"
    },
    {
      "cell_type": "code",
      "source": [
        "# Set the number of sampling points for each cluster\n",
        "num_points_per_cluster = 100\n",
        "\n",
        "# Initialize lists for storing the sampling points data\n",
        "points = []\n",
        "cluster_numbers = []\n",
        "\n",
        "# Ieration for generating the sampling points randomly\n",
        "for cluster_id in range(1, num_clusters + 1):\n",
        "    cluster_indices = np.where(classification == cluster_id)\n",
        "    sample_indices = random.sample(range(len(cluster_indices[0])), min(num_points_per_cluster, len(cluster_indices[0])))\n",
        "\n",
        "    for index in sample_indices:\n",
        "        row, col = cluster_indices[0][index], cluster_indices[1][index] # Gets the index of each pixel\n",
        "        x, y = rasterio.transform.xy(transform, row, col) # Extracts the coordinates from each pixel\n",
        "        points.append(Point(x, y))\n",
        "        cluster_numbers.append(cluster_id)\n",
        "\n",
        "\n",
        "# Create a GeoDataFrame from the points\n",
        "data = {'geometry': points, 'cluster': cluster_numbers}\n",
        "gdf = gpd.GeoDataFrame(data, crs=src.crs)\n",
        "\n",
        "# Save the GeoDataFrame to a shapefile\n",
        "output_shapefile = \"kmeans_random_points_2dokmeans.shp\"\n",
        "gdf.to_file(output_shapefile)\n",
        "\n",
        "print(\"Random points saved to:\", output_shapefile)"
      ],
      "metadata": {
        "id": "Se6ZrpI92gOO"
      },
      "id": "Se6ZrpI92gOO",
      "execution_count": null,
      "outputs": []
    },
    {
      "cell_type": "markdown",
      "source": [
        "### Data sampling from the original MODIS dataset to reconstruct the TS"
      ],
      "metadata": {
        "id": "T7mZzeUc3U1A"
      },
      "id": "T7mZzeUc3U1A"
    },
    {
      "cell_type": "code",
      "execution_count": null,
      "id": "d66da10d-f55b-41f9-8ed5-90adbbbf75c6",
      "metadata": {
        "tags": [],
        "id": "d66da10d-f55b-41f9-8ed5-90adbbbf75c6"
      },
      "outputs": [],
      "source": [
        "modis_collection = MODIS\n",
        "\n",
        "clusters = gdf[\"cluster\"].unique()\n",
        "\n",
        "# Create a function to extract NDVI values for a point\n",
        "def get_ndvi_for_point(feature):\n",
        "    point = feature.geometry()\n",
        "    ndvi_values = modis_collection.getRegion(point, scale=250).getInfo()\n",
        "    return ndvi_values\n",
        "\n",
        "# Loop through each cluster and extract NDVI values for each point\n",
        "ndvi_data = []\n",
        "\n",
        "for cluster in clusters:\n",
        "    cluster_gdf = gdf[gdf[\"cluster\"] == cluster]\n",
        "    for index, row in cluster_gdf.iterrows():\n",
        "        point = Point(row[\"geometry\"].x, row[\"geometry\"].y)\n",
        "        feature = ee.Feature(ee.Geometry.Point(point.x, point.y))\n",
        "        ndvi_values = get_ndvi_for_point(feature)\n",
        "\n",
        "        # Extract NDVI values for each scene\n",
        "        for scene_values in ndvi_values[1:]:\n",
        "            timestamp_milliseconds = int(scene_values[3])\n",
        "            timestamp_seconds = timestamp_milliseconds / 1000\n",
        "            dt_object = dt.utcfromtimestamp(timestamp_seconds)\n",
        "            formatted_date = dt_object.strftime('%Y-%m-%d')\n",
        "\n",
        "            scene_ndvi_values = scene_values[4:]\n",
        "            ndvi_data.append([cluster, point.x, point.y, formatted_date, *scene_ndvi_values])\n",
        "\n",
        "# Create a dataframe from the extracted data\n",
        "columns = [\"cluster\", \"longitude\", \"latitude\", \"date\"] + [\"NDVI\" + str(i) for i in range(1, len(ndvi_data[0]) - 3)]\n",
        "ndvi_df = pd.DataFrame(ndvi_data, columns=columns)"
      ]
    },
    {
      "cell_type": "code",
      "execution_count": null,
      "id": "81027c09-a405-4293-a6c5-26cb10b9aa04",
      "metadata": {
        "tags": [],
        "id": "81027c09-a405-4293-a6c5-26cb10b9aa04"
      },
      "outputs": [],
      "source": [
        "# Fill Nan values with -2000 (same as with the unmasking done before)\n",
        "ndvi_df = ndvi_df.fillna(-2000)"
      ]
    },
    {
      "cell_type": "code",
      "execution_count": null,
      "id": "69e9675a-341d-41b2-9a11-046ba61627a0",
      "metadata": {
        "id": "69e9675a-341d-41b2-9a11-046ba61627a0"
      },
      "outputs": [],
      "source": [
        "# Display the dataFrame (Optional)\n",
        "#ndvi_df"
      ]
    },
    {
      "cell_type": "code",
      "execution_count": null,
      "id": "30c67057-b259-40e7-8e70-70c8f5620b27",
      "metadata": {
        "tags": [],
        "id": "30c67057-b259-40e7-8e70-70c8f5620b27"
      },
      "outputs": [],
      "source": [
        "# Pivot the DataFrame to have one column per date\n",
        "pivot_df = ndvi_df.pivot_table(\n",
        "    index=[\"cluster\", \"longitude\", \"latitude\"],\n",
        "    columns=\"date\",\n",
        "    values=[\"NDVI1\"],  # List all the NDVI columns here\n",
        "    aggfunc=\"first\"  # You can adjust the aggregation function if needed\n",
        ")\n",
        "\n",
        "# Reset the index to make columns regular columns\n",
        "pivot_df.reset_index(inplace=True)\n",
        "\n",
        "# Display the pivoted DataFrame (Optional)\n",
        "#pivot_df"
      ]
    },
    {
      "cell_type": "markdown",
      "source": [
        "### Export data"
      ],
      "metadata": {
        "id": "7_ncw9534MoA"
      },
      "id": "7_ncw9534MoA"
    },
    {
      "cell_type": "code",
      "execution_count": null,
      "id": "bbe91137-c3af-41a2-99d4-c73538800e1b",
      "metadata": {
        "tags": [],
        "id": "bbe91137-c3af-41a2-99d4-c73538800e1b"
      },
      "outputs": [],
      "source": [
        "# Export the final csv\n",
        "pivot_df.to_csv(\"kmeans_ndvi_pivot-2.csv\", index=False)\n",
        "files.download('kmeans_ndvi_pivot-2.csv')\n",
        "\n",
        "# Optional\n",
        "#ndvi_df.to_csv(\"kmeans_ndvi.csv\", index=False)\n",
        "#files.download('kmeans_ndvi.cs')"
      ]
    }
  ],
  "metadata": {
    "kernelspec": {
      "display_name": "Python 3 (ipykernel)",
      "language": "python",
      "name": "python3"
    },
    "language_info": {
      "codemirror_mode": {
        "name": "ipython",
        "version": 3
      },
      "file_extension": ".py",
      "mimetype": "text/x-python",
      "name": "python",
      "nbconvert_exporter": "python",
      "pygments_lexer": "ipython3",
      "version": "3.11.0"
    },
    "colab": {
      "provenance": []
    },
    "widgets": {
      "application/vnd.jupyter.widget-state+json": {
        "51cbd67f724c4fa48582e159730af819": {
          "model_module": "jupyter-leaflet",
          "model_name": "LeafletMapModel",
          "model_module_version": "^0.20",
          "state": {
            "_dom_classes": [],
            "_model_module": "jupyter-leaflet",
            "_model_module_version": "^0.20",
            "_model_name": "LeafletMapModel",
            "_view_count": null,
            "_view_module": "jupyter-leaflet",
            "_view_module_version": "^0.20",
            "_view_name": "LeafletMapView",
            "bottom": 9925.999961751306,
            "bounce_at_zoom_limits": true,
            "box_zoom": true,
            "center": [
              -30.031054698938327,
              -46.38427734375001
            ],
            "close_popup_on_click": true,
            "controls": [
              "IPY_MODEL_5140c9a94c774283bc785be0a729d180",
              "IPY_MODEL_0a0619290c754986b5f2dfe8c0d9c631",
              "IPY_MODEL_5cdbada6dba14623858623cbcb3e7db5",
              "IPY_MODEL_4059c37ee2ca43acb3473134b07f6bcc",
              "IPY_MODEL_f6ab19f13d52416bb729756542a66eab",
              "IPY_MODEL_cda28aec11b546deb5df11ce2d0cc4bd",
              "IPY_MODEL_68a5dd6b9b6643069c4190eb926c4620",
              "IPY_MODEL_e9009bcee0db45f9adb4ef63c8902014"
            ],
            "crs": {
              "name": "EPSG3857",
              "custom": false
            },
            "default_style": "IPY_MODEL_7738851e2a3340d181486d1128ed68cd",
            "double_click_zoom": true,
            "dragging": true,
            "dragging_style": "IPY_MODEL_286c54ee69f94ec0aea7596e9f9c1cb0",
            "east": -25.2685546875,
            "fullscreen": false,
            "inertia": true,
            "inertia_deceleration": 3000,
            "inertia_max_speed": 1500,
            "interpolation": "bilinear",
            "keyboard": true,
            "keyboard_pan_offset": 80,
            "keyboard_zoom_offset": 1,
            "layers": [
              "IPY_MODEL_6822714efd4b45e9a00a5d94a62e7694",
              "IPY_MODEL_beef3fbb61e84ab6a01c72ec0a26567d"
            ],
            "layout": "IPY_MODEL_318df3ef135247458a69899ebf80045f",
            "left": 5120,
            "max_zoom": 24,
            "min_zoom": null,
            "modisdate": "2025-06-22",
            "north": -24.166801318534812,
            "options": [
              "bounce_at_zoom_limits",
              "box_zoom",
              "center",
              "close_popup_on_click",
              "double_click_zoom",
              "dragging",
              "fullscreen",
              "inertia",
              "inertia_deceleration",
              "inertia_max_speed",
              "interpolation",
              "keyboard",
              "keyboard_pan_offset",
              "keyboard_zoom_offset",
              "max_zoom",
              "min_zoom",
              "prefer_canvas",
              "scroll_wheel_zoom",
              "tap",
              "tap_tolerance",
              "touch_zoom",
              "world_copy_jump",
              "zoom",
              "zoom_animation_threshold",
              "zoom_delta",
              "zoom_snap"
            ],
            "panes": {},
            "prefer_canvas": false,
            "right": 7042,
            "scroll_wheel_zoom": true,
            "south": -35.56797977438824,
            "style": "IPY_MODEL_7738851e2a3340d181486d1128ed68cd",
            "tap": true,
            "tap_tolerance": 15,
            "top": 9325.999961751306,
            "touch_zoom": true,
            "west": -67.50000000000001,
            "window_url": "https://o7kinysxl1q-496ff2e9c6d22116-0-colab.googleusercontent.com/outputframe.html?vrz=colab_20250618-060047_RC00_772864763",
            "world_copy_jump": false,
            "zoom": 6,
            "zoom_animation_threshold": 4,
            "zoom_delta": 1,
            "zoom_snap": 1
          }
        },
        "5140c9a94c774283bc785be0a729d180": {
          "model_module": "jupyter-leaflet",
          "model_name": "LeafletWidgetControlModel",
          "model_module_version": "^0.20",
          "state": {
            "_model_module": "jupyter-leaflet",
            "_model_module_version": "^0.20",
            "_model_name": "LeafletWidgetControlModel",
            "_view_count": null,
            "_view_module": "jupyter-leaflet",
            "_view_module_version": "^0.20",
            "_view_name": "LeafletWidgetControlView",
            "max_height": null,
            "max_width": null,
            "min_height": null,
            "min_width": null,
            "options": [
              "position",
              "transparent_bg"
            ],
            "position": "topleft",
            "transparent_bg": false,
            "widget": "IPY_MODEL_bdc9f9d5d87c4762a6581da293affc6c"
          }
        },
        "0a0619290c754986b5f2dfe8c0d9c631": {
          "model_module": "jupyter-leaflet",
          "model_name": "LeafletZoomControlModel",
          "model_module_version": "^0.20",
          "state": {
            "_model_module": "jupyter-leaflet",
            "_model_module_version": "^0.20",
            "_model_name": "LeafletZoomControlModel",
            "_view_count": null,
            "_view_module": "jupyter-leaflet",
            "_view_module_version": "^0.20",
            "_view_name": "LeafletZoomControlView",
            "options": [
              "position",
              "zoom_in_text",
              "zoom_in_title",
              "zoom_out_text",
              "zoom_out_title"
            ],
            "position": "topleft",
            "zoom_in_text": "+",
            "zoom_in_title": "Zoom in",
            "zoom_out_text": "-",
            "zoom_out_title": "Zoom out"
          }
        },
        "5cdbada6dba14623858623cbcb3e7db5": {
          "model_module": "jupyter-leaflet",
          "model_name": "LeafletFullScreenControlModel",
          "model_module_version": "^0.20",
          "state": {
            "_model_module": "jupyter-leaflet",
            "_model_module_version": "^0.20",
            "_model_name": "LeafletFullScreenControlModel",
            "_view_count": null,
            "_view_module": "jupyter-leaflet",
            "_view_module_version": "^0.20",
            "_view_name": "LeafletFullScreenControlView",
            "options": [
              "position"
            ],
            "position": "topleft"
          }
        },
        "4059c37ee2ca43acb3473134b07f6bcc": {
          "model_module": "jupyter-leaflet",
          "model_name": "LeafletDrawControlModel",
          "model_module_version": "^0.20",
          "state": {
            "_model_module": "jupyter-leaflet",
            "_model_module_version": "^0.20",
            "_model_name": "LeafletDrawControlModel",
            "_view_count": null,
            "_view_module": "jupyter-leaflet",
            "_view_module_version": "^0.20",
            "_view_name": "LeafletDrawControlView",
            "circle": {},
            "circlemarker": {},
            "data": [],
            "edit": true,
            "marker": {
              "shapeOptions": {
                "color": "#3388ff"
              }
            },
            "options": [
              "position"
            ],
            "polygon": {
              "shapeOptions": {}
            },
            "polyline": {
              "shapeOptions": {}
            },
            "position": "topleft",
            "rectangle": {
              "shapeOptions": {
                "color": "#3388ff"
              }
            },
            "remove": true
          }
        },
        "f6ab19f13d52416bb729756542a66eab": {
          "model_module": "jupyter-leaflet",
          "model_name": "LeafletScaleControlModel",
          "model_module_version": "^0.20",
          "state": {
            "_model_module": "jupyter-leaflet",
            "_model_module_version": "^0.20",
            "_model_name": "LeafletScaleControlModel",
            "_view_count": null,
            "_view_module": "jupyter-leaflet",
            "_view_module_version": "^0.20",
            "_view_name": "LeafletScaleControlView",
            "imperial": true,
            "max_width": 100,
            "metric": true,
            "options": [
              "imperial",
              "max_width",
              "metric",
              "position",
              "update_when_idle"
            ],
            "position": "bottomleft",
            "update_when_idle": false
          }
        },
        "cda28aec11b546deb5df11ce2d0cc4bd": {
          "model_module": "jupyter-leaflet",
          "model_name": "LeafletMeasureControlModel",
          "model_module_version": "^0.20",
          "state": {
            "_custom_units": {},
            "_model_module": "jupyter-leaflet",
            "_model_module_version": "^0.20",
            "_model_name": "LeafletMeasureControlModel",
            "_view_count": null,
            "_view_module": "jupyter-leaflet",
            "_view_module_version": "^0.20",
            "_view_name": "LeafletMeasureControlView",
            "active_color": "orange",
            "capture_z_index": 10000,
            "completed_color": "#C8F2BE",
            "options": [
              "active_color",
              "capture_z_index",
              "completed_color",
              "popup_options",
              "position",
              "primary_area_unit",
              "primary_length_unit",
              "secondary_area_unit",
              "secondary_length_unit"
            ],
            "popup_options": {
              "className": "leaflet-measure-resultpopup",
              "autoPanPadding": [
                10,
                10
              ]
            },
            "position": "bottomleft",
            "primary_area_unit": "acres",
            "primary_length_unit": "kilometers",
            "secondary_area_unit": null,
            "secondary_length_unit": null
          }
        },
        "68a5dd6b9b6643069c4190eb926c4620": {
          "model_module": "jupyter-leaflet",
          "model_name": "LeafletWidgetControlModel",
          "model_module_version": "^0.20",
          "state": {
            "_model_module": "jupyter-leaflet",
            "_model_module_version": "^0.20",
            "_model_name": "LeafletWidgetControlModel",
            "_view_count": null,
            "_view_module": "jupyter-leaflet",
            "_view_module_version": "^0.20",
            "_view_name": "LeafletWidgetControlView",
            "max_height": null,
            "max_width": null,
            "min_height": null,
            "min_width": null,
            "options": [
              "position",
              "transparent_bg"
            ],
            "position": "topright",
            "transparent_bg": false,
            "widget": "IPY_MODEL_64a18016a4504656b10b329fd632df0f"
          }
        },
        "e9009bcee0db45f9adb4ef63c8902014": {
          "model_module": "jupyter-leaflet",
          "model_name": "LeafletAttributionControlModel",
          "model_module_version": "^0.20",
          "state": {
            "_model_module": "jupyter-leaflet",
            "_model_module_version": "^0.20",
            "_model_name": "LeafletAttributionControlModel",
            "_view_count": null,
            "_view_module": "jupyter-leaflet",
            "_view_module_version": "^0.20",
            "_view_name": "LeafletAttributionControlView",
            "options": [
              "position",
              "prefix"
            ],
            "position": "bottomright",
            "prefix": "ipyleaflet"
          }
        },
        "7738851e2a3340d181486d1128ed68cd": {
          "model_module": "jupyter-leaflet",
          "model_name": "LeafletMapStyleModel",
          "model_module_version": "^0.20",
          "state": {
            "_model_module": "jupyter-leaflet",
            "_model_module_version": "^0.20",
            "_model_name": "LeafletMapStyleModel",
            "_view_count": null,
            "_view_module": "@jupyter-widgets/base",
            "_view_module_version": "1.2.0",
            "_view_name": "StyleView",
            "cursor": "grab"
          }
        },
        "286c54ee69f94ec0aea7596e9f9c1cb0": {
          "model_module": "jupyter-leaflet",
          "model_name": "LeafletMapStyleModel",
          "model_module_version": "^0.20",
          "state": {
            "_model_module": "jupyter-leaflet",
            "_model_module_version": "^0.20",
            "_model_name": "LeafletMapStyleModel",
            "_view_count": null,
            "_view_module": "@jupyter-widgets/base",
            "_view_module_version": "1.2.0",
            "_view_name": "StyleView",
            "cursor": "move"
          }
        },
        "6822714efd4b45e9a00a5d94a62e7694": {
          "model_module": "jupyter-leaflet",
          "model_name": "LeafletTileLayerModel",
          "model_module_version": "^0.20",
          "state": {
            "_model_module": "jupyter-leaflet",
            "_model_module_version": "^0.20",
            "_model_name": "LeafletTileLayerModel",
            "_view_count": null,
            "_view_module": "jupyter-leaflet",
            "_view_module_version": "^0.20",
            "_view_name": "LeafletTileLayerView",
            "attribution": "&copy; <a href=\"https://www.openstreetmap.org/copyright\">OpenStreetMap</a> contributors",
            "base": true,
            "bottom": true,
            "bounds": null,
            "detect_retina": false,
            "loading": false,
            "max_native_zoom": null,
            "max_zoom": 30,
            "min_native_zoom": null,
            "min_zoom": 1,
            "name": "OpenStreetMap.Mapnik",
            "no_wrap": false,
            "opacity": 1,
            "options": [
              "attribution",
              "bounds",
              "detect_retina",
              "max_native_zoom",
              "max_zoom",
              "min_native_zoom",
              "min_zoom",
              "no_wrap",
              "pm_ignore",
              "tile_size",
              "tms",
              "zoom_offset"
            ],
            "pane": "",
            "pm_ignore": true,
            "popup": null,
            "popup_max_height": null,
            "popup_max_width": 300,
            "popup_min_width": 50,
            "show_loading": false,
            "snap_ignore": true,
            "subitems": [],
            "tile_size": 256,
            "tms": false,
            "url": "https://tile.openstreetmap.org/{z}/{x}/{y}.png",
            "visible": true,
            "zoom_offset": 0
          }
        },
        "beef3fbb61e84ab6a01c72ec0a26567d": {
          "model_module": "jupyter-leaflet",
          "model_name": "LeafletTileLayerModel",
          "model_module_version": "^0.20",
          "state": {
            "_model_module": "jupyter-leaflet",
            "_model_module_version": "^0.20",
            "_model_name": "LeafletTileLayerModel",
            "_view_count": null,
            "_view_module": "jupyter-leaflet",
            "_view_module_version": "^0.20",
            "_view_name": "LeafletTileLayerView",
            "attribution": "Google Earth Engine",
            "base": false,
            "bottom": true,
            "bounds": null,
            "detect_retina": false,
            "loading": false,
            "max_native_zoom": null,
            "max_zoom": 24,
            "min_native_zoom": null,
            "min_zoom": 0,
            "name": "Layer 1",
            "no_wrap": false,
            "opacity": 1,
            "options": [
              "attribution",
              "bounds",
              "detect_retina",
              "max_native_zoom",
              "max_zoom",
              "min_native_zoom",
              "min_zoom",
              "no_wrap",
              "pm_ignore",
              "tile_size",
              "tms",
              "zoom_offset"
            ],
            "pane": "",
            "pm_ignore": true,
            "popup": null,
            "popup_max_height": null,
            "popup_max_width": 300,
            "popup_min_width": 50,
            "show_loading": false,
            "snap_ignore": true,
            "subitems": [],
            "tile_size": 256,
            "tms": false,
            "url": "https://earthengine.googleapis.com/v1/projects/ee-my-francodbarr/maps/4d13a9e0ef3a947b6ac3a08fd281f20a-1697bd57957da54b2872f0ac0f48578d/tiles/{z}/{x}/{y}",
            "visible": true,
            "zoom_offset": 0
          }
        },
        "318df3ef135247458a69899ebf80045f": {
          "model_module": "@jupyter-widgets/base",
          "model_name": "LayoutModel",
          "model_module_version": "1.2.0",
          "state": {
            "_model_module": "@jupyter-widgets/base",
            "_model_module_version": "1.2.0",
            "_model_name": "LayoutModel",
            "_view_count": null,
            "_view_module": "@jupyter-widgets/base",
            "_view_module_version": "1.2.0",
            "_view_name": "LayoutView",
            "align_content": null,
            "align_items": null,
            "align_self": null,
            "border": null,
            "bottom": null,
            "display": null,
            "flex": null,
            "flex_flow": null,
            "grid_area": null,
            "grid_auto_columns": null,
            "grid_auto_flow": null,
            "grid_auto_rows": null,
            "grid_column": null,
            "grid_gap": null,
            "grid_row": null,
            "grid_template_areas": null,
            "grid_template_columns": null,
            "grid_template_rows": null,
            "height": "600px",
            "justify_content": null,
            "justify_items": null,
            "left": null,
            "margin": null,
            "max_height": null,
            "max_width": null,
            "min_height": null,
            "min_width": null,
            "object_fit": null,
            "object_position": null,
            "order": null,
            "overflow": null,
            "overflow_x": null,
            "overflow_y": null,
            "padding": null,
            "right": null,
            "top": null,
            "visibility": null,
            "width": null
          }
        },
        "d764c1fc7355447e8f49cb8817e5e5fe": {
          "model_module": "jupyter-leaflet",
          "model_name": "LeafletMapStyleModel",
          "model_module_version": "^0.20",
          "state": {
            "_model_module": "jupyter-leaflet",
            "_model_module_version": "^0.20",
            "_model_name": "LeafletMapStyleModel",
            "_view_count": null,
            "_view_module": "@jupyter-widgets/base",
            "_view_module_version": "1.2.0",
            "_view_name": "StyleView",
            "cursor": "grab"
          }
        },
        "bdc9f9d5d87c4762a6581da293affc6c": {
          "model_module": "@jupyter-widgets/controls",
          "model_name": "HBoxModel",
          "model_module_version": "1.5.0",
          "state": {
            "_dom_classes": [
              "geemap-colab"
            ],
            "_model_module": "@jupyter-widgets/controls",
            "_model_module_version": "1.5.0",
            "_model_name": "HBoxModel",
            "_view_count": null,
            "_view_module": "@jupyter-widgets/controls",
            "_view_module_version": "1.5.0",
            "_view_name": "HBoxView",
            "box_style": "",
            "children": [
              "IPY_MODEL_fe2c6e72354d40ecb5eb37d2efa3c940"
            ],
            "layout": "IPY_MODEL_3c2e4cbb68794689bfd8bbbd2af3ae16"
          }
        },
        "64a18016a4504656b10b329fd632df0f": {
          "model_module": "@jupyter-widgets/controls",
          "model_name": "VBoxModel",
          "model_module_version": "1.5.0",
          "state": {
            "_dom_classes": [
              "geemap-colab"
            ],
            "_model_module": "@jupyter-widgets/controls",
            "_model_module_version": "1.5.0",
            "_model_name": "VBoxModel",
            "_view_count": null,
            "_view_module": "@jupyter-widgets/controls",
            "_view_module_version": "1.5.0",
            "_view_name": "VBoxView",
            "box_style": "",
            "children": [
              "IPY_MODEL_7ac4df2ecad243799569b4bf7fd39593",
              "IPY_MODEL_e3df841cf1e34b09894c61267ecf0ff9"
            ],
            "layout": "IPY_MODEL_c02e284d37bc491eab4bcfd83295fdeb"
          }
        },
        "fe2c6e72354d40ecb5eb37d2efa3c940": {
          "model_module": "@jupyter-widgets/controls",
          "model_name": "ToggleButtonModel",
          "model_module_version": "1.5.0",
          "state": {
            "_dom_classes": [],
            "_model_module": "@jupyter-widgets/controls",
            "_model_module_version": "1.5.0",
            "_model_name": "ToggleButtonModel",
            "_view_count": null,
            "_view_module": "@jupyter-widgets/controls",
            "_view_module_version": "1.5.0",
            "_view_name": "ToggleButtonView",
            "button_style": "",
            "description": "",
            "description_tooltip": null,
            "disabled": false,
            "icon": "globe",
            "layout": "IPY_MODEL_9118be13eec2404bb0b263a9f8b99ddd",
            "style": "IPY_MODEL_a9c9d39eb249430bb4671201110e2c0d",
            "tooltip": "Search location/data",
            "value": false
          }
        },
        "3c2e4cbb68794689bfd8bbbd2af3ae16": {
          "model_module": "@jupyter-widgets/base",
          "model_name": "LayoutModel",
          "model_module_version": "1.2.0",
          "state": {
            "_model_module": "@jupyter-widgets/base",
            "_model_module_version": "1.2.0",
            "_model_name": "LayoutModel",
            "_view_count": null,
            "_view_module": "@jupyter-widgets/base",
            "_view_module_version": "1.2.0",
            "_view_name": "LayoutView",
            "align_content": null,
            "align_items": null,
            "align_self": null,
            "border": null,
            "bottom": null,
            "display": null,
            "flex": null,
            "flex_flow": null,
            "grid_area": null,
            "grid_auto_columns": null,
            "grid_auto_flow": null,
            "grid_auto_rows": null,
            "grid_column": null,
            "grid_gap": null,
            "grid_row": null,
            "grid_template_areas": null,
            "grid_template_columns": null,
            "grid_template_rows": null,
            "height": null,
            "justify_content": null,
            "justify_items": null,
            "left": null,
            "margin": null,
            "max_height": null,
            "max_width": null,
            "min_height": null,
            "min_width": null,
            "object_fit": null,
            "object_position": null,
            "order": null,
            "overflow": null,
            "overflow_x": null,
            "overflow_y": null,
            "padding": null,
            "right": null,
            "top": null,
            "visibility": null,
            "width": null
          }
        },
        "7ac4df2ecad243799569b4bf7fd39593": {
          "model_module": "@jupyter-widgets/controls",
          "model_name": "HBoxModel",
          "model_module_version": "1.5.0",
          "state": {
            "_dom_classes": [],
            "_model_module": "@jupyter-widgets/controls",
            "_model_module_version": "1.5.0",
            "_model_name": "HBoxModel",
            "_view_count": null,
            "_view_module": "@jupyter-widgets/controls",
            "_view_module_version": "1.5.0",
            "_view_name": "HBoxView",
            "box_style": "",
            "children": [
              "IPY_MODEL_5806ccc6fde7421ba413e4a943f7672c",
              "IPY_MODEL_04b0c21dfff24ba38ea33a49375c55e0"
            ],
            "layout": "IPY_MODEL_de134061ce9545538aed801c043da439"
          }
        },
        "e3df841cf1e34b09894c61267ecf0ff9": {
          "model_module": "@jupyter-widgets/controls",
          "model_name": "VBoxModel",
          "model_module_version": "1.5.0",
          "state": {
            "_dom_classes": [],
            "_model_module": "@jupyter-widgets/controls",
            "_model_module_version": "1.5.0",
            "_model_name": "VBoxModel",
            "_view_count": null,
            "_view_module": "@jupyter-widgets/controls",
            "_view_module_version": "1.5.0",
            "_view_name": "VBoxView",
            "box_style": "",
            "children": [
              "IPY_MODEL_7bd20a981ba641709c124dee6a96af26"
            ],
            "layout": "IPY_MODEL_9b23f75b93d44ff788408371c58559b5"
          }
        },
        "c02e284d37bc491eab4bcfd83295fdeb": {
          "model_module": "@jupyter-widgets/base",
          "model_name": "LayoutModel",
          "model_module_version": "1.2.0",
          "state": {
            "_model_module": "@jupyter-widgets/base",
            "_model_module_version": "1.2.0",
            "_model_name": "LayoutModel",
            "_view_count": null,
            "_view_module": "@jupyter-widgets/base",
            "_view_module_version": "1.2.0",
            "_view_name": "LayoutView",
            "align_content": null,
            "align_items": null,
            "align_self": null,
            "border": null,
            "bottom": null,
            "display": null,
            "flex": null,
            "flex_flow": null,
            "grid_area": null,
            "grid_auto_columns": null,
            "grid_auto_flow": null,
            "grid_auto_rows": null,
            "grid_column": null,
            "grid_gap": null,
            "grid_row": null,
            "grid_template_areas": null,
            "grid_template_columns": null,
            "grid_template_rows": null,
            "height": null,
            "justify_content": null,
            "justify_items": null,
            "left": null,
            "margin": null,
            "max_height": null,
            "max_width": null,
            "min_height": null,
            "min_width": null,
            "object_fit": null,
            "object_position": null,
            "order": null,
            "overflow": null,
            "overflow_x": null,
            "overflow_y": null,
            "padding": null,
            "right": null,
            "top": null,
            "visibility": null,
            "width": null
          }
        },
        "9118be13eec2404bb0b263a9f8b99ddd": {
          "model_module": "@jupyter-widgets/base",
          "model_name": "LayoutModel",
          "model_module_version": "1.2.0",
          "state": {
            "_model_module": "@jupyter-widgets/base",
            "_model_module_version": "1.2.0",
            "_model_name": "LayoutModel",
            "_view_count": null,
            "_view_module": "@jupyter-widgets/base",
            "_view_module_version": "1.2.0",
            "_view_name": "LayoutView",
            "align_content": null,
            "align_items": null,
            "align_self": null,
            "border": null,
            "bottom": null,
            "display": null,
            "flex": null,
            "flex_flow": null,
            "grid_area": null,
            "grid_auto_columns": null,
            "grid_auto_flow": null,
            "grid_auto_rows": null,
            "grid_column": null,
            "grid_gap": null,
            "grid_row": null,
            "grid_template_areas": null,
            "grid_template_columns": null,
            "grid_template_rows": null,
            "height": "28px",
            "justify_content": null,
            "justify_items": null,
            "left": null,
            "margin": null,
            "max_height": null,
            "max_width": null,
            "min_height": null,
            "min_width": null,
            "object_fit": null,
            "object_position": null,
            "order": null,
            "overflow": null,
            "overflow_x": null,
            "overflow_y": null,
            "padding": "0px 0px 0px 4px",
            "right": null,
            "top": null,
            "visibility": null,
            "width": "28px"
          }
        },
        "a9c9d39eb249430bb4671201110e2c0d": {
          "model_module": "@jupyter-widgets/controls",
          "model_name": "DescriptionStyleModel",
          "model_module_version": "1.5.0",
          "state": {
            "_model_module": "@jupyter-widgets/controls",
            "_model_module_version": "1.5.0",
            "_model_name": "DescriptionStyleModel",
            "_view_count": null,
            "_view_module": "@jupyter-widgets/base",
            "_view_module_version": "1.2.0",
            "_view_name": "StyleView",
            "description_width": ""
          }
        },
        "5806ccc6fde7421ba413e4a943f7672c": {
          "model_module": "@jupyter-widgets/controls",
          "model_name": "ToggleButtonModel",
          "model_module_version": "1.5.0",
          "state": {
            "_dom_classes": [],
            "_model_module": "@jupyter-widgets/controls",
            "_model_module_version": "1.5.0",
            "_model_name": "ToggleButtonModel",
            "_view_count": null,
            "_view_module": "@jupyter-widgets/controls",
            "_view_module_version": "1.5.0",
            "_view_name": "ToggleButtonView",
            "button_style": "",
            "description": "",
            "description_tooltip": null,
            "disabled": false,
            "icon": "server",
            "layout": "IPY_MODEL_ac80b6ff618d45dea097439a55907cf8",
            "style": "IPY_MODEL_d9a05dcaf377466d9834d2a5827d0647",
            "tooltip": "Layers",
            "value": true
          }
        },
        "04b0c21dfff24ba38ea33a49375c55e0": {
          "model_module": "@jupyter-widgets/controls",
          "model_name": "ToggleButtonModel",
          "model_module_version": "1.5.0",
          "state": {
            "_dom_classes": [],
            "_model_module": "@jupyter-widgets/controls",
            "_model_module_version": "1.5.0",
            "_model_name": "ToggleButtonModel",
            "_view_count": null,
            "_view_module": "@jupyter-widgets/controls",
            "_view_module_version": "1.5.0",
            "_view_name": "ToggleButtonView",
            "button_style": "",
            "description": "",
            "description_tooltip": null,
            "disabled": false,
            "icon": "wrench",
            "layout": "IPY_MODEL_2efe5adb01aa4e1081230812852c289b",
            "style": "IPY_MODEL_4707ec26ccce4a1b8f9adb0cf09ed245",
            "tooltip": "Toolbar",
            "value": false
          }
        },
        "de134061ce9545538aed801c043da439": {
          "model_module": "@jupyter-widgets/base",
          "model_name": "LayoutModel",
          "model_module_version": "1.2.0",
          "state": {
            "_model_module": "@jupyter-widgets/base",
            "_model_module_version": "1.2.0",
            "_model_name": "LayoutModel",
            "_view_count": null,
            "_view_module": "@jupyter-widgets/base",
            "_view_module_version": "1.2.0",
            "_view_name": "LayoutView",
            "align_content": null,
            "align_items": "center",
            "align_self": null,
            "border": null,
            "bottom": null,
            "display": "flex",
            "flex": null,
            "flex_flow": null,
            "grid_area": null,
            "grid_auto_columns": null,
            "grid_auto_flow": null,
            "grid_auto_rows": null,
            "grid_column": null,
            "grid_gap": null,
            "grid_row": null,
            "grid_template_areas": null,
            "grid_template_columns": null,
            "grid_template_rows": null,
            "height": null,
            "justify_content": "flex-end",
            "justify_items": null,
            "left": null,
            "margin": null,
            "max_height": null,
            "max_width": null,
            "min_height": null,
            "min_width": null,
            "object_fit": null,
            "object_position": null,
            "order": null,
            "overflow": null,
            "overflow_x": null,
            "overflow_y": null,
            "padding": null,
            "right": null,
            "top": null,
            "visibility": null,
            "width": null
          }
        },
        "7bd20a981ba641709c124dee6a96af26": {
          "model_module": "@jupyter-widgets/controls",
          "model_name": "VBoxModel",
          "model_module_version": "1.5.0",
          "state": {
            "_dom_classes": [
              "geemap-colab"
            ],
            "_model_module": "@jupyter-widgets/controls",
            "_model_module_version": "1.5.0",
            "_model_name": "VBoxModel",
            "_view_count": null,
            "_view_module": "@jupyter-widgets/controls",
            "_view_module_version": "1.5.0",
            "_view_name": "VBoxView",
            "box_style": "",
            "children": [
              "IPY_MODEL_4a2669095de849fe93b7c89bf0306013",
              "IPY_MODEL_81793ea4a59e498ca50f2f10c5296e78"
            ],
            "layout": "IPY_MODEL_8ce185cf919c46fc9c1f1d34f15afc39"
          }
        },
        "9b23f75b93d44ff788408371c58559b5": {
          "model_module": "@jupyter-widgets/base",
          "model_name": "LayoutModel",
          "model_module_version": "1.2.0",
          "state": {
            "_model_module": "@jupyter-widgets/base",
            "_model_module_version": "1.2.0",
            "_model_name": "LayoutModel",
            "_view_count": null,
            "_view_module": "@jupyter-widgets/base",
            "_view_module_version": "1.2.0",
            "_view_name": "LayoutView",
            "align_content": null,
            "align_items": null,
            "align_self": null,
            "border": null,
            "bottom": null,
            "display": null,
            "flex": null,
            "flex_flow": null,
            "grid_area": null,
            "grid_auto_columns": null,
            "grid_auto_flow": null,
            "grid_auto_rows": null,
            "grid_column": null,
            "grid_gap": null,
            "grid_row": null,
            "grid_template_areas": null,
            "grid_template_columns": null,
            "grid_template_rows": null,
            "height": null,
            "justify_content": null,
            "justify_items": null,
            "left": null,
            "margin": null,
            "max_height": null,
            "max_width": null,
            "min_height": null,
            "min_width": null,
            "object_fit": null,
            "object_position": null,
            "order": null,
            "overflow": null,
            "overflow_x": null,
            "overflow_y": null,
            "padding": null,
            "right": null,
            "top": null,
            "visibility": null,
            "width": null
          }
        },
        "ac80b6ff618d45dea097439a55907cf8": {
          "model_module": "@jupyter-widgets/base",
          "model_name": "LayoutModel",
          "model_module_version": "1.2.0",
          "state": {
            "_model_module": "@jupyter-widgets/base",
            "_model_module_version": "1.2.0",
            "_model_name": "LayoutModel",
            "_view_count": null,
            "_view_module": "@jupyter-widgets/base",
            "_view_module_version": "1.2.0",
            "_view_name": "LayoutView",
            "align_content": null,
            "align_items": null,
            "align_self": null,
            "border": null,
            "bottom": null,
            "display": null,
            "flex": null,
            "flex_flow": null,
            "grid_area": null,
            "grid_auto_columns": null,
            "grid_auto_flow": null,
            "grid_auto_rows": null,
            "grid_column": null,
            "grid_gap": null,
            "grid_row": null,
            "grid_template_areas": null,
            "grid_template_columns": null,
            "grid_template_rows": null,
            "height": "28px",
            "justify_content": null,
            "justify_items": null,
            "left": null,
            "margin": null,
            "max_height": null,
            "max_width": null,
            "min_height": null,
            "min_width": null,
            "object_fit": null,
            "object_position": null,
            "order": null,
            "overflow": null,
            "overflow_x": null,
            "overflow_y": null,
            "padding": null,
            "right": null,
            "top": null,
            "visibility": null,
            "width": "72px"
          }
        },
        "d9a05dcaf377466d9834d2a5827d0647": {
          "model_module": "@jupyter-widgets/controls",
          "model_name": "DescriptionStyleModel",
          "model_module_version": "1.5.0",
          "state": {
            "_model_module": "@jupyter-widgets/controls",
            "_model_module_version": "1.5.0",
            "_model_name": "DescriptionStyleModel",
            "_view_count": null,
            "_view_module": "@jupyter-widgets/base",
            "_view_module_version": "1.2.0",
            "_view_name": "StyleView",
            "description_width": ""
          }
        },
        "2efe5adb01aa4e1081230812852c289b": {
          "model_module": "@jupyter-widgets/base",
          "model_name": "LayoutModel",
          "model_module_version": "1.2.0",
          "state": {
            "_model_module": "@jupyter-widgets/base",
            "_model_module_version": "1.2.0",
            "_model_name": "LayoutModel",
            "_view_count": null,
            "_view_module": "@jupyter-widgets/base",
            "_view_module_version": "1.2.0",
            "_view_name": "LayoutView",
            "align_content": null,
            "align_items": null,
            "align_self": null,
            "border": null,
            "bottom": null,
            "display": null,
            "flex": null,
            "flex_flow": null,
            "grid_area": null,
            "grid_auto_columns": null,
            "grid_auto_flow": null,
            "grid_auto_rows": null,
            "grid_column": null,
            "grid_gap": null,
            "grid_row": null,
            "grid_template_areas": null,
            "grid_template_columns": null,
            "grid_template_rows": null,
            "height": "28px",
            "justify_content": null,
            "justify_items": null,
            "left": null,
            "margin": null,
            "max_height": null,
            "max_width": null,
            "min_height": null,
            "min_width": null,
            "object_fit": null,
            "object_position": null,
            "order": null,
            "overflow": null,
            "overflow_x": null,
            "overflow_y": null,
            "padding": "0px 0px 0px 4px",
            "right": null,
            "top": null,
            "visibility": null,
            "width": "28px"
          }
        },
        "4707ec26ccce4a1b8f9adb0cf09ed245": {
          "model_module": "@jupyter-widgets/controls",
          "model_name": "DescriptionStyleModel",
          "model_module_version": "1.5.0",
          "state": {
            "_model_module": "@jupyter-widgets/controls",
            "_model_module_version": "1.5.0",
            "_model_name": "DescriptionStyleModel",
            "_view_count": null,
            "_view_module": "@jupyter-widgets/base",
            "_view_module_version": "1.2.0",
            "_view_name": "StyleView",
            "description_width": ""
          }
        },
        "4a2669095de849fe93b7c89bf0306013": {
          "model_module": "@jupyter-widgets/controls",
          "model_name": "HBoxModel",
          "model_module_version": "1.5.0",
          "state": {
            "_dom_classes": [],
            "_model_module": "@jupyter-widgets/controls",
            "_model_module_version": "1.5.0",
            "_model_name": "HBoxModel",
            "_view_count": null,
            "_view_module": "@jupyter-widgets/controls",
            "_view_module_version": "1.5.0",
            "_view_name": "HBoxView",
            "box_style": "",
            "children": [
              "IPY_MODEL_7a3300c63f394dcea25947e61a3ba262",
              "IPY_MODEL_9428606ba9644b9d84ee58cd1d54477a"
            ],
            "layout": "IPY_MODEL_86bbc35700c84a109af6144da9b02e63"
          }
        },
        "81793ea4a59e498ca50f2f10c5296e78": {
          "model_module": "@jupyter-widgets/controls",
          "model_name": "VBoxModel",
          "model_module_version": "1.5.0",
          "state": {
            "_dom_classes": [],
            "_model_module": "@jupyter-widgets/controls",
            "_model_module_version": "1.5.0",
            "_model_name": "VBoxModel",
            "_view_count": null,
            "_view_module": "@jupyter-widgets/controls",
            "_view_module_version": "1.5.0",
            "_view_name": "VBoxView",
            "box_style": "",
            "children": [
              "IPY_MODEL_908867ce7c81471d9a5d645a3ccf2b01",
              "IPY_MODEL_2509d012aef341279ae871e3225439eb",
              "IPY_MODEL_002b7ba21c384915808cd54d7d226fc4"
            ],
            "layout": "IPY_MODEL_9e4075d68e714454a86f6a9551aed4b8"
          }
        },
        "8ce185cf919c46fc9c1f1d34f15afc39": {
          "model_module": "@jupyter-widgets/base",
          "model_name": "LayoutModel",
          "model_module_version": "1.2.0",
          "state": {
            "_model_module": "@jupyter-widgets/base",
            "_model_module_version": "1.2.0",
            "_model_name": "LayoutModel",
            "_view_count": null,
            "_view_module": "@jupyter-widgets/base",
            "_view_module_version": "1.2.0",
            "_view_name": "LayoutView",
            "align_content": null,
            "align_items": null,
            "align_self": null,
            "border": null,
            "bottom": null,
            "display": null,
            "flex": null,
            "flex_flow": null,
            "grid_area": null,
            "grid_auto_columns": null,
            "grid_auto_flow": null,
            "grid_auto_rows": null,
            "grid_column": null,
            "grid_gap": null,
            "grid_row": null,
            "grid_template_areas": null,
            "grid_template_columns": null,
            "grid_template_rows": null,
            "height": null,
            "justify_content": null,
            "justify_items": null,
            "left": null,
            "margin": null,
            "max_height": null,
            "max_width": null,
            "min_height": null,
            "min_width": null,
            "object_fit": null,
            "object_position": null,
            "order": null,
            "overflow": null,
            "overflow_x": null,
            "overflow_y": null,
            "padding": null,
            "right": null,
            "top": null,
            "visibility": null,
            "width": null
          }
        },
        "7a3300c63f394dcea25947e61a3ba262": {
          "model_module": "@jupyter-widgets/controls",
          "model_name": "ButtonModel",
          "model_module_version": "1.5.0",
          "state": {
            "_dom_classes": [],
            "_model_module": "@jupyter-widgets/controls",
            "_model_module_version": "1.5.0",
            "_model_name": "ButtonModel",
            "_view_count": null,
            "_view_module": "@jupyter-widgets/controls",
            "_view_module_version": "1.5.0",
            "_view_name": "ButtonView",
            "button_style": "primary",
            "description": "",
            "disabled": false,
            "icon": "times",
            "layout": "IPY_MODEL_77087d59c3f645559e30c976f0f91777",
            "style": "IPY_MODEL_ad19b6ebff5943f28acc1d8372c7e552",
            "tooltip": "Close the tool"
          }
        },
        "9428606ba9644b9d84ee58cd1d54477a": {
          "model_module": "@jupyter-widgets/controls",
          "model_name": "ToggleButtonModel",
          "model_module_version": "1.5.0",
          "state": {
            "_dom_classes": [],
            "_model_module": "@jupyter-widgets/controls",
            "_model_module_version": "1.5.0",
            "_model_name": "ToggleButtonModel",
            "_view_count": null,
            "_view_module": "@jupyter-widgets/controls",
            "_view_module_version": "1.5.0",
            "_view_name": "ToggleButtonView",
            "button_style": "",
            "description": "",
            "description_tooltip": null,
            "disabled": false,
            "icon": "server",
            "layout": "IPY_MODEL_7828365c78af4bc1980f82cead79def8",
            "style": "IPY_MODEL_f8fafcfbbce84579ac58651fb4142b42",
            "tooltip": "Layer Manager",
            "value": true
          }
        },
        "86bbc35700c84a109af6144da9b02e63": {
          "model_module": "@jupyter-widgets/base",
          "model_name": "LayoutModel",
          "model_module_version": "1.2.0",
          "state": {
            "_model_module": "@jupyter-widgets/base",
            "_model_module_version": "1.2.0",
            "_model_name": "LayoutModel",
            "_view_count": null,
            "_view_module": "@jupyter-widgets/base",
            "_view_module_version": "1.2.0",
            "_view_name": "LayoutView",
            "align_content": null,
            "align_items": null,
            "align_self": null,
            "border": null,
            "bottom": null,
            "display": "none",
            "flex": null,
            "flex_flow": null,
            "grid_area": null,
            "grid_auto_columns": null,
            "grid_auto_flow": null,
            "grid_auto_rows": null,
            "grid_column": null,
            "grid_gap": null,
            "grid_row": null,
            "grid_template_areas": null,
            "grid_template_columns": null,
            "grid_template_rows": null,
            "height": null,
            "justify_content": null,
            "justify_items": null,
            "left": null,
            "margin": null,
            "max_height": null,
            "max_width": null,
            "min_height": null,
            "min_width": null,
            "object_fit": null,
            "object_position": null,
            "order": null,
            "overflow": null,
            "overflow_x": null,
            "overflow_y": null,
            "padding": null,
            "right": null,
            "top": null,
            "visibility": null,
            "width": null
          }
        },
        "908867ce7c81471d9a5d645a3ccf2b01": {
          "model_module": "@jupyter-widgets/controls",
          "model_name": "CheckboxModel",
          "model_module_version": "1.5.0",
          "state": {
            "_dom_classes": [],
            "_model_module": "@jupyter-widgets/controls",
            "_model_module_version": "1.5.0",
            "_model_name": "CheckboxModel",
            "_view_count": null,
            "_view_module": "@jupyter-widgets/controls",
            "_view_module_version": "1.5.0",
            "_view_name": "CheckboxView",
            "description": "All layers on/off",
            "description_tooltip": null,
            "disabled": false,
            "indent": false,
            "layout": "IPY_MODEL_75c76c300a3846049871ca595bb0a3e1",
            "style": "IPY_MODEL_8ab12e0a7afb49eeb0213592e0a4e045",
            "value": false
          }
        },
        "2509d012aef341279ae871e3225439eb": {
          "model_module": "@jupyter-widgets/controls",
          "model_name": "HBoxModel",
          "model_module_version": "1.5.0",
          "state": {
            "_dom_classes": [],
            "_model_module": "@jupyter-widgets/controls",
            "_model_module_version": "1.5.0",
            "_model_name": "HBoxModel",
            "_view_count": null,
            "_view_module": "@jupyter-widgets/controls",
            "_view_module_version": "1.5.0",
            "_view_name": "HBoxView",
            "box_style": "",
            "children": [
              "IPY_MODEL_709baf325b6a48f38f250f434ae5c04b",
              "IPY_MODEL_d67862839be34820bfefb2248289ef61",
              "IPY_MODEL_18db867ceb504ff4b67e7066d29620c8",
              "IPY_MODEL_a8f44a81d72e46fc8bfcd5488e78ad96"
            ],
            "layout": "IPY_MODEL_71edb75b84f9470f92b47718a912c23c"
          }
        },
        "002b7ba21c384915808cd54d7d226fc4": {
          "model_module": "@jupyter-widgets/controls",
          "model_name": "HBoxModel",
          "model_module_version": "1.5.0",
          "state": {
            "_dom_classes": [],
            "_model_module": "@jupyter-widgets/controls",
            "_model_module_version": "1.5.0",
            "_model_name": "HBoxModel",
            "_view_count": null,
            "_view_module": "@jupyter-widgets/controls",
            "_view_module_version": "1.5.0",
            "_view_name": "HBoxView",
            "box_style": "",
            "children": [
              "IPY_MODEL_6a30e3f3cfcb42ffbaef338312501f30",
              "IPY_MODEL_fe9e1d4dbb004c88902ddfa159402c68",
              "IPY_MODEL_c426f0f7e28040acb65efa306131e973",
              "IPY_MODEL_d487b81955654333be1c887bea74dc3b"
            ],
            "layout": "IPY_MODEL_9a89ca1c30b1440cb200c75668a359f6"
          }
        },
        "9e4075d68e714454a86f6a9551aed4b8": {
          "model_module": "@jupyter-widgets/base",
          "model_name": "LayoutModel",
          "model_module_version": "1.2.0",
          "state": {
            "_model_module": "@jupyter-widgets/base",
            "_model_module_version": "1.2.0",
            "_model_name": "LayoutModel",
            "_view_count": null,
            "_view_module": "@jupyter-widgets/base",
            "_view_module_version": "1.2.0",
            "_view_name": "LayoutView",
            "align_content": null,
            "align_items": null,
            "align_self": null,
            "border": null,
            "bottom": null,
            "display": null,
            "flex": null,
            "flex_flow": null,
            "grid_area": null,
            "grid_auto_columns": null,
            "grid_auto_flow": null,
            "grid_auto_rows": null,
            "grid_column": null,
            "grid_gap": null,
            "grid_row": null,
            "grid_template_areas": null,
            "grid_template_columns": null,
            "grid_template_rows": null,
            "height": null,
            "justify_content": null,
            "justify_items": null,
            "left": null,
            "margin": null,
            "max_height": null,
            "max_width": null,
            "min_height": null,
            "min_width": null,
            "object_fit": null,
            "object_position": null,
            "order": null,
            "overflow": null,
            "overflow_x": null,
            "overflow_y": null,
            "padding": null,
            "right": null,
            "top": null,
            "visibility": null,
            "width": null
          }
        },
        "77087d59c3f645559e30c976f0f91777": {
          "model_module": "@jupyter-widgets/base",
          "model_name": "LayoutModel",
          "model_module_version": "1.2.0",
          "state": {
            "_model_module": "@jupyter-widgets/base",
            "_model_module_version": "1.2.0",
            "_model_name": "LayoutModel",
            "_view_count": null,
            "_view_module": "@jupyter-widgets/base",
            "_view_module_version": "1.2.0",
            "_view_name": "LayoutView",
            "align_content": null,
            "align_items": null,
            "align_self": null,
            "border": null,
            "bottom": null,
            "display": null,
            "flex": null,
            "flex_flow": null,
            "grid_area": null,
            "grid_auto_columns": null,
            "grid_auto_flow": null,
            "grid_auto_rows": null,
            "grid_column": null,
            "grid_gap": null,
            "grid_row": null,
            "grid_template_areas": null,
            "grid_template_columns": null,
            "grid_template_rows": null,
            "height": "28px",
            "justify_content": null,
            "justify_items": null,
            "left": null,
            "margin": null,
            "max_height": null,
            "max_width": null,
            "min_height": null,
            "min_width": null,
            "object_fit": null,
            "object_position": null,
            "order": null,
            "overflow": null,
            "overflow_x": null,
            "overflow_y": null,
            "padding": "0px",
            "right": null,
            "top": null,
            "visibility": null,
            "width": "28px"
          }
        },
        "ad19b6ebff5943f28acc1d8372c7e552": {
          "model_module": "@jupyter-widgets/controls",
          "model_name": "ButtonStyleModel",
          "model_module_version": "1.5.0",
          "state": {
            "_model_module": "@jupyter-widgets/controls",
            "_model_module_version": "1.5.0",
            "_model_name": "ButtonStyleModel",
            "_view_count": null,
            "_view_module": "@jupyter-widgets/base",
            "_view_module_version": "1.2.0",
            "_view_name": "StyleView",
            "button_color": null,
            "font_weight": ""
          }
        },
        "7828365c78af4bc1980f82cead79def8": {
          "model_module": "@jupyter-widgets/base",
          "model_name": "LayoutModel",
          "model_module_version": "1.2.0",
          "state": {
            "_model_module": "@jupyter-widgets/base",
            "_model_module_version": "1.2.0",
            "_model_name": "LayoutModel",
            "_view_count": null,
            "_view_module": "@jupyter-widgets/base",
            "_view_module_version": "1.2.0",
            "_view_name": "LayoutView",
            "align_content": null,
            "align_items": null,
            "align_self": null,
            "border": null,
            "bottom": null,
            "display": null,
            "flex": null,
            "flex_flow": null,
            "grid_area": null,
            "grid_auto_columns": null,
            "grid_auto_flow": null,
            "grid_auto_rows": null,
            "grid_column": null,
            "grid_gap": null,
            "grid_row": null,
            "grid_template_areas": null,
            "grid_template_columns": null,
            "grid_template_rows": null,
            "height": "28px",
            "justify_content": null,
            "justify_items": null,
            "left": null,
            "margin": null,
            "max_height": null,
            "max_width": null,
            "min_height": null,
            "min_width": null,
            "object_fit": null,
            "object_position": null,
            "order": null,
            "overflow": null,
            "overflow_x": null,
            "overflow_y": null,
            "padding": "0px 0px 0px 4px",
            "right": null,
            "top": null,
            "visibility": null,
            "width": "28px"
          }
        },
        "f8fafcfbbce84579ac58651fb4142b42": {
          "model_module": "@jupyter-widgets/controls",
          "model_name": "DescriptionStyleModel",
          "model_module_version": "1.5.0",
          "state": {
            "_model_module": "@jupyter-widgets/controls",
            "_model_module_version": "1.5.0",
            "_model_name": "DescriptionStyleModel",
            "_view_count": null,
            "_view_module": "@jupyter-widgets/base",
            "_view_module_version": "1.2.0",
            "_view_name": "StyleView",
            "description_width": ""
          }
        },
        "75c76c300a3846049871ca595bb0a3e1": {
          "model_module": "@jupyter-widgets/base",
          "model_name": "LayoutModel",
          "model_module_version": "1.2.0",
          "state": {
            "_model_module": "@jupyter-widgets/base",
            "_model_module_version": "1.2.0",
            "_model_name": "LayoutModel",
            "_view_count": null,
            "_view_module": "@jupyter-widgets/base",
            "_view_module_version": "1.2.0",
            "_view_name": "LayoutView",
            "align_content": null,
            "align_items": null,
            "align_self": null,
            "border": null,
            "bottom": null,
            "display": null,
            "flex": null,
            "flex_flow": null,
            "grid_area": null,
            "grid_auto_columns": null,
            "grid_auto_flow": null,
            "grid_auto_rows": null,
            "grid_column": null,
            "grid_gap": null,
            "grid_row": null,
            "grid_template_areas": null,
            "grid_template_columns": null,
            "grid_template_rows": null,
            "height": "18px",
            "justify_content": null,
            "justify_items": null,
            "left": null,
            "margin": null,
            "max_height": null,
            "max_width": null,
            "min_height": null,
            "min_width": null,
            "object_fit": null,
            "object_position": null,
            "order": null,
            "overflow": null,
            "overflow_x": null,
            "overflow_y": null,
            "padding": "0px 4px 25px 4px",
            "right": null,
            "top": null,
            "visibility": null,
            "width": "30ex"
          }
        },
        "8ab12e0a7afb49eeb0213592e0a4e045": {
          "model_module": "@jupyter-widgets/controls",
          "model_name": "DescriptionStyleModel",
          "model_module_version": "1.5.0",
          "state": {
            "_model_module": "@jupyter-widgets/controls",
            "_model_module_version": "1.5.0",
            "_model_name": "DescriptionStyleModel",
            "_view_count": null,
            "_view_module": "@jupyter-widgets/base",
            "_view_module_version": "1.2.0",
            "_view_name": "StyleView",
            "description_width": ""
          }
        },
        "709baf325b6a48f38f250f434ae5c04b": {
          "model_module": "@jupyter-widgets/controls",
          "model_name": "CheckboxModel",
          "model_module_version": "1.5.0",
          "state": {
            "_dom_classes": [],
            "_model_module": "@jupyter-widgets/controls",
            "_model_module_version": "1.5.0",
            "_model_name": "CheckboxModel",
            "_view_count": null,
            "_view_module": "@jupyter-widgets/controls",
            "_view_module_version": "1.5.0",
            "_view_name": "CheckboxView",
            "description": "OpenStreetMap.Mapnik",
            "description_tooltip": null,
            "disabled": false,
            "indent": false,
            "layout": "IPY_MODEL_44763cbf0e7f456680e1f473cce4dcd1",
            "style": "IPY_MODEL_f5137ad338744e2e8b896f8e2005dd69",
            "value": true
          }
        },
        "d67862839be34820bfefb2248289ef61": {
          "model_module": "@jupyter-widgets/controls",
          "model_name": "FloatSliderModel",
          "model_module_version": "1.5.0",
          "state": {
            "_dom_classes": [],
            "_model_module": "@jupyter-widgets/controls",
            "_model_module_version": "1.5.0",
            "_model_name": "FloatSliderModel",
            "_view_count": null,
            "_view_module": "@jupyter-widgets/controls",
            "_view_module_version": "1.5.0",
            "_view_name": "FloatSliderView",
            "continuous_update": true,
            "description": "",
            "description_tooltip": null,
            "disabled": false,
            "layout": "IPY_MODEL_db6e17e068c843f1866b527b906560f8",
            "max": 1,
            "min": 0,
            "orientation": "horizontal",
            "readout": false,
            "readout_format": ".2f",
            "step": 0.01,
            "style": "IPY_MODEL_ec8b0f5b3005497aba0a5e8b0f801eb3",
            "value": 1
          }
        },
        "18db867ceb504ff4b67e7066d29620c8": {
          "model_module": "@jupyter-widgets/controls",
          "model_name": "ButtonModel",
          "model_module_version": "1.5.0",
          "state": {
            "_dom_classes": [],
            "_model_module": "@jupyter-widgets/controls",
            "_model_module_version": "1.5.0",
            "_model_name": "ButtonModel",
            "_view_count": null,
            "_view_module": "@jupyter-widgets/controls",
            "_view_module_version": "1.5.0",
            "_view_name": "ButtonView",
            "button_style": "",
            "description": "",
            "disabled": false,
            "icon": "gear",
            "layout": "IPY_MODEL_933bfe5dc41842398ab37a0d84cf8dbc",
            "style": "IPY_MODEL_496f9e815edb48fc80412c277c6004d0",
            "tooltip": "OpenStreetMap.Mapnik"
          }
        },
        "a8f44a81d72e46fc8bfcd5488e78ad96": {
          "model_module": "@jupyter-widgets/controls",
          "model_name": "ButtonModel",
          "model_module_version": "1.5.0",
          "state": {
            "_dom_classes": [],
            "_model_module": "@jupyter-widgets/controls",
            "_model_module_version": "1.5.0",
            "_model_name": "ButtonModel",
            "_view_count": null,
            "_view_module": "@jupyter-widgets/controls",
            "_view_module_version": "1.5.0",
            "_view_name": "ButtonView",
            "button_style": "",
            "description": "",
            "disabled": false,
            "icon": "times",
            "layout": "IPY_MODEL_821f2e4d8b4d49388256bb123181a2d8",
            "style": "IPY_MODEL_2aa9199ea1f747568797dda61fb6b56a",
            "tooltip": "Loaded"
          }
        },
        "71edb75b84f9470f92b47718a912c23c": {
          "model_module": "@jupyter-widgets/base",
          "model_name": "LayoutModel",
          "model_module_version": "1.2.0",
          "state": {
            "_model_module": "@jupyter-widgets/base",
            "_model_module_version": "1.2.0",
            "_model_name": "LayoutModel",
            "_view_count": null,
            "_view_module": "@jupyter-widgets/base",
            "_view_module_version": "1.2.0",
            "_view_name": "LayoutView",
            "align_content": null,
            "align_items": null,
            "align_self": null,
            "border": null,
            "bottom": null,
            "display": null,
            "flex": null,
            "flex_flow": null,
            "grid_area": null,
            "grid_auto_columns": null,
            "grid_auto_flow": null,
            "grid_auto_rows": null,
            "grid_column": null,
            "grid_gap": null,
            "grid_row": null,
            "grid_template_areas": null,
            "grid_template_columns": null,
            "grid_template_rows": null,
            "height": null,
            "justify_content": null,
            "justify_items": null,
            "left": null,
            "margin": null,
            "max_height": null,
            "max_width": null,
            "min_height": null,
            "min_width": null,
            "object_fit": null,
            "object_position": null,
            "order": null,
            "overflow": null,
            "overflow_x": null,
            "overflow_y": null,
            "padding": "0px 4px 0px 4px",
            "right": null,
            "top": null,
            "visibility": null,
            "width": null
          }
        },
        "6a30e3f3cfcb42ffbaef338312501f30": {
          "model_module": "@jupyter-widgets/controls",
          "model_name": "CheckboxModel",
          "model_module_version": "1.5.0",
          "state": {
            "_dom_classes": [],
            "_model_module": "@jupyter-widgets/controls",
            "_model_module_version": "1.5.0",
            "_model_name": "CheckboxModel",
            "_view_count": null,
            "_view_module": "@jupyter-widgets/controls",
            "_view_module_version": "1.5.0",
            "_view_name": "CheckboxView",
            "description": "Layer 1",
            "description_tooltip": null,
            "disabled": false,
            "indent": false,
            "layout": "IPY_MODEL_10e5797786b049cbbc2c69f1adba36c8",
            "style": "IPY_MODEL_5f375580ee9d4c258e52d0ef5fe88b1b",
            "value": true
          }
        },
        "fe9e1d4dbb004c88902ddfa159402c68": {
          "model_module": "@jupyter-widgets/controls",
          "model_name": "FloatSliderModel",
          "model_module_version": "1.5.0",
          "state": {
            "_dom_classes": [],
            "_model_module": "@jupyter-widgets/controls",
            "_model_module_version": "1.5.0",
            "_model_name": "FloatSliderModel",
            "_view_count": null,
            "_view_module": "@jupyter-widgets/controls",
            "_view_module_version": "1.5.0",
            "_view_name": "FloatSliderView",
            "continuous_update": true,
            "description": "",
            "description_tooltip": null,
            "disabled": false,
            "layout": "IPY_MODEL_fe6607f4a88c43e2be4d9f0dd723bc82",
            "max": 1,
            "min": 0,
            "orientation": "horizontal",
            "readout": false,
            "readout_format": ".2f",
            "step": 0.01,
            "style": "IPY_MODEL_e279679ff3fe443cab482676fc6196d0",
            "value": 1
          }
        },
        "c426f0f7e28040acb65efa306131e973": {
          "model_module": "@jupyter-widgets/controls",
          "model_name": "ButtonModel",
          "model_module_version": "1.5.0",
          "state": {
            "_dom_classes": [],
            "_model_module": "@jupyter-widgets/controls",
            "_model_module_version": "1.5.0",
            "_model_name": "ButtonModel",
            "_view_count": null,
            "_view_module": "@jupyter-widgets/controls",
            "_view_module_version": "1.5.0",
            "_view_name": "ButtonView",
            "button_style": "",
            "description": "",
            "disabled": false,
            "icon": "gear",
            "layout": "IPY_MODEL_64c6940c0f9b411b8c55d8fc1222671f",
            "style": "IPY_MODEL_2f9fea9c0d65443f861c7ed063c2f658",
            "tooltip": "Layer 1"
          }
        },
        "d487b81955654333be1c887bea74dc3b": {
          "model_module": "@jupyter-widgets/controls",
          "model_name": "ButtonModel",
          "model_module_version": "1.5.0",
          "state": {
            "_dom_classes": [],
            "_model_module": "@jupyter-widgets/controls",
            "_model_module_version": "1.5.0",
            "_model_name": "ButtonModel",
            "_view_count": null,
            "_view_module": "@jupyter-widgets/controls",
            "_view_module_version": "1.5.0",
            "_view_name": "ButtonView",
            "button_style": "",
            "description": "",
            "disabled": false,
            "icon": "times",
            "layout": "IPY_MODEL_09717e319398450391d5a7b61ac6bd7a",
            "style": "IPY_MODEL_3497b56d94b54a63a50eec2f23bbb72d",
            "tooltip": "Loaded"
          }
        },
        "9a89ca1c30b1440cb200c75668a359f6": {
          "model_module": "@jupyter-widgets/base",
          "model_name": "LayoutModel",
          "model_module_version": "1.2.0",
          "state": {
            "_model_module": "@jupyter-widgets/base",
            "_model_module_version": "1.2.0",
            "_model_name": "LayoutModel",
            "_view_count": null,
            "_view_module": "@jupyter-widgets/base",
            "_view_module_version": "1.2.0",
            "_view_name": "LayoutView",
            "align_content": null,
            "align_items": null,
            "align_self": null,
            "border": null,
            "bottom": null,
            "display": null,
            "flex": null,
            "flex_flow": null,
            "grid_area": null,
            "grid_auto_columns": null,
            "grid_auto_flow": null,
            "grid_auto_rows": null,
            "grid_column": null,
            "grid_gap": null,
            "grid_row": null,
            "grid_template_areas": null,
            "grid_template_columns": null,
            "grid_template_rows": null,
            "height": null,
            "justify_content": null,
            "justify_items": null,
            "left": null,
            "margin": null,
            "max_height": null,
            "max_width": null,
            "min_height": null,
            "min_width": null,
            "object_fit": null,
            "object_position": null,
            "order": null,
            "overflow": null,
            "overflow_x": null,
            "overflow_y": null,
            "padding": "0px 4px 0px 4px",
            "right": null,
            "top": null,
            "visibility": null,
            "width": null
          }
        },
        "44763cbf0e7f456680e1f473cce4dcd1": {
          "model_module": "@jupyter-widgets/base",
          "model_name": "LayoutModel",
          "model_module_version": "1.2.0",
          "state": {
            "_model_module": "@jupyter-widgets/base",
            "_model_module_version": "1.2.0",
            "_model_name": "LayoutModel",
            "_view_count": null,
            "_view_module": "@jupyter-widgets/base",
            "_view_module_version": "1.2.0",
            "_view_name": "LayoutView",
            "align_content": null,
            "align_items": null,
            "align_self": null,
            "border": null,
            "bottom": null,
            "display": null,
            "flex": null,
            "flex_flow": null,
            "grid_area": null,
            "grid_auto_columns": null,
            "grid_auto_flow": null,
            "grid_auto_rows": null,
            "grid_column": null,
            "grid_gap": null,
            "grid_row": null,
            "grid_template_areas": null,
            "grid_template_columns": null,
            "grid_template_rows": null,
            "height": "18px",
            "justify_content": null,
            "justify_items": null,
            "left": null,
            "margin": null,
            "max_height": null,
            "max_width": null,
            "min_height": null,
            "min_width": null,
            "object_fit": null,
            "object_position": null,
            "order": null,
            "overflow": null,
            "overflow_x": null,
            "overflow_y": null,
            "padding": null,
            "right": null,
            "top": null,
            "visibility": null,
            "width": "140px"
          }
        },
        "f5137ad338744e2e8b896f8e2005dd69": {
          "model_module": "@jupyter-widgets/controls",
          "model_name": "DescriptionStyleModel",
          "model_module_version": "1.5.0",
          "state": {
            "_model_module": "@jupyter-widgets/controls",
            "_model_module_version": "1.5.0",
            "_model_name": "DescriptionStyleModel",
            "_view_count": null,
            "_view_module": "@jupyter-widgets/base",
            "_view_module_version": "1.2.0",
            "_view_name": "StyleView",
            "description_width": ""
          }
        },
        "db6e17e068c843f1866b527b906560f8": {
          "model_module": "@jupyter-widgets/base",
          "model_name": "LayoutModel",
          "model_module_version": "1.2.0",
          "state": {
            "_model_module": "@jupyter-widgets/base",
            "_model_module_version": "1.2.0",
            "_model_name": "LayoutModel",
            "_view_count": null,
            "_view_module": "@jupyter-widgets/base",
            "_view_module_version": "1.2.0",
            "_view_name": "LayoutView",
            "align_content": null,
            "align_items": null,
            "align_self": null,
            "border": null,
            "bottom": null,
            "display": null,
            "flex": null,
            "flex_flow": null,
            "grid_area": null,
            "grid_auto_columns": null,
            "grid_auto_flow": null,
            "grid_auto_rows": null,
            "grid_column": null,
            "grid_gap": null,
            "grid_row": null,
            "grid_template_areas": null,
            "grid_template_columns": null,
            "grid_template_rows": null,
            "height": null,
            "justify_content": null,
            "justify_items": null,
            "left": null,
            "margin": null,
            "max_height": null,
            "max_width": null,
            "min_height": null,
            "min_width": null,
            "object_fit": null,
            "object_position": null,
            "order": null,
            "overflow": null,
            "overflow_x": null,
            "overflow_y": null,
            "padding": "0px 3px 0px 0px",
            "right": null,
            "top": null,
            "visibility": null,
            "width": "70px"
          }
        },
        "ec8b0f5b3005497aba0a5e8b0f801eb3": {
          "model_module": "@jupyter-widgets/controls",
          "model_name": "SliderStyleModel",
          "model_module_version": "1.5.0",
          "state": {
            "_model_module": "@jupyter-widgets/controls",
            "_model_module_version": "1.5.0",
            "_model_name": "SliderStyleModel",
            "_view_count": null,
            "_view_module": "@jupyter-widgets/base",
            "_view_module_version": "1.2.0",
            "_view_name": "StyleView",
            "description_width": "",
            "handle_color": null
          }
        },
        "933bfe5dc41842398ab37a0d84cf8dbc": {
          "model_module": "@jupyter-widgets/base",
          "model_name": "LayoutModel",
          "model_module_version": "1.2.0",
          "state": {
            "_model_module": "@jupyter-widgets/base",
            "_model_module_version": "1.2.0",
            "_model_name": "LayoutModel",
            "_view_count": null,
            "_view_module": "@jupyter-widgets/base",
            "_view_module_version": "1.2.0",
            "_view_name": "LayoutView",
            "align_content": null,
            "align_items": null,
            "align_self": null,
            "border": null,
            "bottom": null,
            "display": null,
            "flex": null,
            "flex_flow": null,
            "grid_area": null,
            "grid_auto_columns": null,
            "grid_auto_flow": null,
            "grid_auto_rows": null,
            "grid_column": null,
            "grid_gap": null,
            "grid_row": null,
            "grid_template_areas": null,
            "grid_template_columns": null,
            "grid_template_rows": null,
            "height": "25px",
            "justify_content": null,
            "justify_items": null,
            "left": null,
            "margin": null,
            "max_height": null,
            "max_width": null,
            "min_height": null,
            "min_width": null,
            "object_fit": null,
            "object_position": null,
            "order": null,
            "overflow": null,
            "overflow_x": null,
            "overflow_y": null,
            "padding": "0px",
            "right": null,
            "top": null,
            "visibility": null,
            "width": "25px"
          }
        },
        "496f9e815edb48fc80412c277c6004d0": {
          "model_module": "@jupyter-widgets/controls",
          "model_name": "ButtonStyleModel",
          "model_module_version": "1.5.0",
          "state": {
            "_model_module": "@jupyter-widgets/controls",
            "_model_module_version": "1.5.0",
            "_model_name": "ButtonStyleModel",
            "_view_count": null,
            "_view_module": "@jupyter-widgets/base",
            "_view_module_version": "1.2.0",
            "_view_name": "StyleView",
            "button_color": null,
            "font_weight": ""
          }
        },
        "821f2e4d8b4d49388256bb123181a2d8": {
          "model_module": "@jupyter-widgets/base",
          "model_name": "LayoutModel",
          "model_module_version": "1.2.0",
          "state": {
            "_model_module": "@jupyter-widgets/base",
            "_model_module_version": "1.2.0",
            "_model_name": "LayoutModel",
            "_view_count": null,
            "_view_module": "@jupyter-widgets/base",
            "_view_module_version": "1.2.0",
            "_view_name": "LayoutView",
            "align_content": null,
            "align_items": null,
            "align_self": null,
            "border": null,
            "bottom": null,
            "display": null,
            "flex": null,
            "flex_flow": null,
            "grid_area": null,
            "grid_auto_columns": null,
            "grid_auto_flow": null,
            "grid_auto_rows": null,
            "grid_column": null,
            "grid_gap": null,
            "grid_row": null,
            "grid_template_areas": null,
            "grid_template_columns": null,
            "grid_template_rows": null,
            "height": "25px",
            "justify_content": null,
            "justify_items": null,
            "left": null,
            "margin": null,
            "max_height": null,
            "max_width": null,
            "min_height": null,
            "min_width": null,
            "object_fit": null,
            "object_position": null,
            "order": null,
            "overflow": null,
            "overflow_x": null,
            "overflow_y": null,
            "padding": "0px",
            "right": null,
            "top": null,
            "visibility": null,
            "width": "25px"
          }
        },
        "2aa9199ea1f747568797dda61fb6b56a": {
          "model_module": "@jupyter-widgets/controls",
          "model_name": "ButtonStyleModel",
          "model_module_version": "1.5.0",
          "state": {
            "_model_module": "@jupyter-widgets/controls",
            "_model_module_version": "1.5.0",
            "_model_name": "ButtonStyleModel",
            "_view_count": null,
            "_view_module": "@jupyter-widgets/base",
            "_view_module_version": "1.2.0",
            "_view_name": "StyleView",
            "button_color": null,
            "font_weight": ""
          }
        },
        "10e5797786b049cbbc2c69f1adba36c8": {
          "model_module": "@jupyter-widgets/base",
          "model_name": "LayoutModel",
          "model_module_version": "1.2.0",
          "state": {
            "_model_module": "@jupyter-widgets/base",
            "_model_module_version": "1.2.0",
            "_model_name": "LayoutModel",
            "_view_count": null,
            "_view_module": "@jupyter-widgets/base",
            "_view_module_version": "1.2.0",
            "_view_name": "LayoutView",
            "align_content": null,
            "align_items": null,
            "align_self": null,
            "border": null,
            "bottom": null,
            "display": null,
            "flex": null,
            "flex_flow": null,
            "grid_area": null,
            "grid_auto_columns": null,
            "grid_auto_flow": null,
            "grid_auto_rows": null,
            "grid_column": null,
            "grid_gap": null,
            "grid_row": null,
            "grid_template_areas": null,
            "grid_template_columns": null,
            "grid_template_rows": null,
            "height": "18px",
            "justify_content": null,
            "justify_items": null,
            "left": null,
            "margin": null,
            "max_height": null,
            "max_width": null,
            "min_height": null,
            "min_width": null,
            "object_fit": null,
            "object_position": null,
            "order": null,
            "overflow": null,
            "overflow_x": null,
            "overflow_y": null,
            "padding": null,
            "right": null,
            "top": null,
            "visibility": null,
            "width": "140px"
          }
        },
        "5f375580ee9d4c258e52d0ef5fe88b1b": {
          "model_module": "@jupyter-widgets/controls",
          "model_name": "DescriptionStyleModel",
          "model_module_version": "1.5.0",
          "state": {
            "_model_module": "@jupyter-widgets/controls",
            "_model_module_version": "1.5.0",
            "_model_name": "DescriptionStyleModel",
            "_view_count": null,
            "_view_module": "@jupyter-widgets/base",
            "_view_module_version": "1.2.0",
            "_view_name": "StyleView",
            "description_width": ""
          }
        },
        "fe6607f4a88c43e2be4d9f0dd723bc82": {
          "model_module": "@jupyter-widgets/base",
          "model_name": "LayoutModel",
          "model_module_version": "1.2.0",
          "state": {
            "_model_module": "@jupyter-widgets/base",
            "_model_module_version": "1.2.0",
            "_model_name": "LayoutModel",
            "_view_count": null,
            "_view_module": "@jupyter-widgets/base",
            "_view_module_version": "1.2.0",
            "_view_name": "LayoutView",
            "align_content": null,
            "align_items": null,
            "align_self": null,
            "border": null,
            "bottom": null,
            "display": null,
            "flex": null,
            "flex_flow": null,
            "grid_area": null,
            "grid_auto_columns": null,
            "grid_auto_flow": null,
            "grid_auto_rows": null,
            "grid_column": null,
            "grid_gap": null,
            "grid_row": null,
            "grid_template_areas": null,
            "grid_template_columns": null,
            "grid_template_rows": null,
            "height": null,
            "justify_content": null,
            "justify_items": null,
            "left": null,
            "margin": null,
            "max_height": null,
            "max_width": null,
            "min_height": null,
            "min_width": null,
            "object_fit": null,
            "object_position": null,
            "order": null,
            "overflow": null,
            "overflow_x": null,
            "overflow_y": null,
            "padding": "0px 3px 0px 0px",
            "right": null,
            "top": null,
            "visibility": null,
            "width": "70px"
          }
        },
        "e279679ff3fe443cab482676fc6196d0": {
          "model_module": "@jupyter-widgets/controls",
          "model_name": "SliderStyleModel",
          "model_module_version": "1.5.0",
          "state": {
            "_model_module": "@jupyter-widgets/controls",
            "_model_module_version": "1.5.0",
            "_model_name": "SliderStyleModel",
            "_view_count": null,
            "_view_module": "@jupyter-widgets/base",
            "_view_module_version": "1.2.0",
            "_view_name": "StyleView",
            "description_width": "",
            "handle_color": null
          }
        },
        "64c6940c0f9b411b8c55d8fc1222671f": {
          "model_module": "@jupyter-widgets/base",
          "model_name": "LayoutModel",
          "model_module_version": "1.2.0",
          "state": {
            "_model_module": "@jupyter-widgets/base",
            "_model_module_version": "1.2.0",
            "_model_name": "LayoutModel",
            "_view_count": null,
            "_view_module": "@jupyter-widgets/base",
            "_view_module_version": "1.2.0",
            "_view_name": "LayoutView",
            "align_content": null,
            "align_items": null,
            "align_self": null,
            "border": null,
            "bottom": null,
            "display": null,
            "flex": null,
            "flex_flow": null,
            "grid_area": null,
            "grid_auto_columns": null,
            "grid_auto_flow": null,
            "grid_auto_rows": null,
            "grid_column": null,
            "grid_gap": null,
            "grid_row": null,
            "grid_template_areas": null,
            "grid_template_columns": null,
            "grid_template_rows": null,
            "height": "25px",
            "justify_content": null,
            "justify_items": null,
            "left": null,
            "margin": null,
            "max_height": null,
            "max_width": null,
            "min_height": null,
            "min_width": null,
            "object_fit": null,
            "object_position": null,
            "order": null,
            "overflow": null,
            "overflow_x": null,
            "overflow_y": null,
            "padding": "0px",
            "right": null,
            "top": null,
            "visibility": null,
            "width": "25px"
          }
        },
        "2f9fea9c0d65443f861c7ed063c2f658": {
          "model_module": "@jupyter-widgets/controls",
          "model_name": "ButtonStyleModel",
          "model_module_version": "1.5.0",
          "state": {
            "_model_module": "@jupyter-widgets/controls",
            "_model_module_version": "1.5.0",
            "_model_name": "ButtonStyleModel",
            "_view_count": null,
            "_view_module": "@jupyter-widgets/base",
            "_view_module_version": "1.2.0",
            "_view_name": "StyleView",
            "button_color": null,
            "font_weight": ""
          }
        },
        "09717e319398450391d5a7b61ac6bd7a": {
          "model_module": "@jupyter-widgets/base",
          "model_name": "LayoutModel",
          "model_module_version": "1.2.0",
          "state": {
            "_model_module": "@jupyter-widgets/base",
            "_model_module_version": "1.2.0",
            "_model_name": "LayoutModel",
            "_view_count": null,
            "_view_module": "@jupyter-widgets/base",
            "_view_module_version": "1.2.0",
            "_view_name": "LayoutView",
            "align_content": null,
            "align_items": null,
            "align_self": null,
            "border": null,
            "bottom": null,
            "display": null,
            "flex": null,
            "flex_flow": null,
            "grid_area": null,
            "grid_auto_columns": null,
            "grid_auto_flow": null,
            "grid_auto_rows": null,
            "grid_column": null,
            "grid_gap": null,
            "grid_row": null,
            "grid_template_areas": null,
            "grid_template_columns": null,
            "grid_template_rows": null,
            "height": "25px",
            "justify_content": null,
            "justify_items": null,
            "left": null,
            "margin": null,
            "max_height": null,
            "max_width": null,
            "min_height": null,
            "min_width": null,
            "object_fit": null,
            "object_position": null,
            "order": null,
            "overflow": null,
            "overflow_x": null,
            "overflow_y": null,
            "padding": "0px",
            "right": null,
            "top": null,
            "visibility": null,
            "width": "25px"
          }
        },
        "3497b56d94b54a63a50eec2f23bbb72d": {
          "model_module": "@jupyter-widgets/controls",
          "model_name": "ButtonStyleModel",
          "model_module_version": "1.5.0",
          "state": {
            "_model_module": "@jupyter-widgets/controls",
            "_model_module_version": "1.5.0",
            "_model_name": "ButtonStyleModel",
            "_view_count": null,
            "_view_module": "@jupyter-widgets/base",
            "_view_module_version": "1.2.0",
            "_view_name": "StyleView",
            "button_color": null,
            "font_weight": ""
          }
        }
      }
    }
  },
  "nbformat": 4,
  "nbformat_minor": 5
}