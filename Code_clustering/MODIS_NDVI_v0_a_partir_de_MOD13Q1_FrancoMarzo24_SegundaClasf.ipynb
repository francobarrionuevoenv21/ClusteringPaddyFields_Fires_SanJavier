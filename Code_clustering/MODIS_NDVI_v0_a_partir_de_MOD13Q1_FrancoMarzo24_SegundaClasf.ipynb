{
  "cells": [
    {
      "cell_type": "markdown",
      "id": "2a97854e-1104-414c-8369-50568dcb916a",
      "metadata": {
        "id": "2a97854e-1104-414c-8369-50568dcb916a"
      },
      "source": [
        "# NDVI de Terra/MODIS Time Series Unsupervised Classification with Kmeans with GEE Python API (Second attempt)"
      ]
    },
    {
      "cell_type": "code",
      "source": [
        "# Install necessary packages in Colab\n",
        "!pip install rasterio"
      ],
      "metadata": {
        "id": "b5tWjYqh_9XX"
      },
      "id": "b5tWjYqh_9XX",
      "execution_count": null,
      "outputs": []
    },
    {
      "cell_type": "markdown",
      "id": "037221fb-50e6-4b34-a7d9-1c849edc0dbf",
      "metadata": {
        "id": "037221fb-50e6-4b34-a7d9-1c849edc0dbf"
      },
      "source": [
        "## Import libraries"
      ]
    },
    {
      "cell_type": "code",
      "execution_count": null,
      "id": "95c7c71e-558b-4e8b-bc8e-a08c34d15cb3",
      "metadata": {
        "execution": {
          "iopub.execute_input": "2024-03-04T20:39:54.521712Z",
          "iopub.status.busy": "2024-03-04T20:39:54.521568Z",
          "iopub.status.idle": "2024-03-04T20:40:27.151349Z",
          "shell.execute_reply": "2024-03-04T20:40:27.151064Z",
          "shell.execute_reply.started": "2024-03-04T20:39:54.521701Z"
        },
        "tags": [],
        "id": "95c7c71e-558b-4e8b-bc8e-a08c34d15cb3"
      },
      "outputs": [],
      "source": [
        "import ee\n",
        "ee.Authenticate()\n",
        "ee.Initialize(project='ee-my-francodbarr') # NOTE: change according to your GEE project name"
      ]
    },
    {
      "cell_type": "code",
      "execution_count": null,
      "id": "60f5e2f5-8601-4509-9132-e1610558357b",
      "metadata": {
        "execution": {
          "iopub.execute_input": "2024-03-04T20:40:53.832518Z",
          "iopub.status.busy": "2024-03-04T20:40:53.832359Z",
          "iopub.status.idle": "2024-03-04T20:40:54.559108Z",
          "shell.execute_reply": "2024-03-04T20:40:54.558733Z",
          "shell.execute_reply.started": "2024-03-04T20:40:53.832505Z"
        },
        "tags": [],
        "id": "60f5e2f5-8601-4509-9132-e1610558357b"
      },
      "outputs": [],
      "source": [
        "import pandas as pd\n",
        "import numpy as np\n",
        "from datetime import datetime as dt\n",
        "import geemap\n",
        "import geopandas as gpd\n",
        "from shapely.geometry import Polygon\n",
        "from shapely.geometry import shape\n",
        "from shapely.geometry import Point\n",
        "import rasterio\n",
        "import random\n",
        "from google.colab import files"
      ]
    },
    {
      "cell_type": "markdown",
      "source": [
        "## Data and layers importing"
      ],
      "metadata": {
        "id": "l4B9STFrxiBV"
      },
      "id": "l4B9STFrxiBV"
    },
    {
      "cell_type": "markdown",
      "source": [
        "### Clusters' first selection vector importing and conversion"
      ],
      "metadata": {
        "id": "wi24GxFe3Drq"
      },
      "id": "wi24GxFe3Drq"
    },
    {
      "cell_type": "code",
      "source": [
        "# Import vector file from the GH repo + unzipping\n",
        "!wget https://github.com/francobarrionuevoenv21/ClusteringPaddyFields_Fires_SanJavier/raw/refs/heads/main/Data_results/kmeans_seleccion_vectorizado_primerclasf.zip\n",
        "!unzip kmeans_seleccion_vectorizado_primerclasf"
      ],
      "metadata": {
        "collapsed": true,
        "id": "_nTfi4U53kyX"
      },
      "id": "_nTfi4U53kyX",
      "execution_count": null,
      "outputs": []
    },
    {
      "cell_type": "code",
      "source": [
        "# Vector file reading\n",
        "targetCRS = \"EPSG:4326\"\n",
        "vectorClustSel = gpd.read_file('/content/kmeans_seleccion_vectorizado.shp').to_crs(targetCRS)"
      ],
      "metadata": {
        "id": "QM6uIqmu3Drr"
      },
      "execution_count": null,
      "outputs": [],
      "id": "QM6uIqmu3Drr"
    },
    {
      "cell_type": "code",
      "source": [
        "# Plot and check vector data\n",
        "vectorClustSel.plot(column='DN')"
      ],
      "metadata": {
        "id": "Gw8WyROw4WVH"
      },
      "id": "Gw8WyROw4WVH",
      "execution_count": null,
      "outputs": []
    },
    {
      "cell_type": "code",
      "source": [
        "# getCoordsSHP function\n",
        "def getCoordsSHP(gdfshpFile):\n",
        "  '''\n",
        "  This function takes a polygon vector file passed as a GeoDataFrame. Then\n",
        "  it returns all the coordinates as a tuple of tuples.\n",
        "  '''\n",
        "\n",
        "  gdfiterf = gdfshpFile.iterfeatures()\n",
        "  tupleFile = next(gdfiterf)['geometry']['coordinates']\n",
        "\n",
        "  return tupleFile\n",
        "\n",
        "# Get ids of each polygon\n",
        "listIDs = list(vectorClustSel['fid'])\n",
        "\n",
        "# Create a empty list to fill with ee polygons\n",
        "listPolys = []\n",
        "\n",
        "# Extracts coordinates from each polygon and convert to ee polygons\n",
        "for ID in listIDs:\n",
        "  listOfLists = [list(coords) for coords in getCoordsSHP(vectorClustSel[vectorClustSel['fid']==ID])[0]] # Get vector coordinates as a tuple of tuples\n",
        "  listPolys.append(ee.Geometry.Polygon(listOfLists)) # Coordinates to a EE.Polygon\n",
        "\n",
        "# Convert polygons to feature collection\n",
        "featureCollection02 = ee.FeatureCollection(listPolys)"
      ],
      "metadata": {
        "id": "XY1i9ZRSDf7o"
      },
      "execution_count": null,
      "outputs": [],
      "id": "XY1i9ZRSDf7o"
    },
    {
      "cell_type": "markdown",
      "source": [
        "### MODIS NDVI data retrieving from GEE catalog\n",
        "#### https://developers.google.com/earth-engine/datasets/catalog/MODIS_061_MOD13Q1"
      ],
      "metadata": {
        "id": "nLo__3wZYLBQ"
      },
      "id": "nLo__3wZYLBQ"
    },
    {
      "cell_type": "code",
      "execution_count": null,
      "id": "1f145dcc-3a79-4430-9d86-fbb9fca15421",
      "metadata": {
        "execution": {
          "iopub.execute_input": "2024-03-04T20:43:23.732387Z",
          "iopub.status.busy": "2024-03-04T20:43:23.732247Z",
          "iopub.status.idle": "2024-03-04T20:43:25.231874Z",
          "shell.execute_reply": "2024-03-04T20:43:25.231566Z",
          "shell.execute_reply.started": "2024-03-04T20:43:23.732376Z"
        },
        "tags": [],
        "id": "1f145dcc-3a79-4430-9d86-fbb9fca15421"
      },
      "outputs": [],
      "source": [
        "# MODIS MOD13Q1 NDVI data selection\n",
        "MODIS = ee.ImageCollection('MODIS/006/MOD13Q1').select('NDVI') # MOD13Q1.061 Terra Vegetation Indices 16-Day Global 250m\n",
        "\n",
        "# Time range selection\n",
        "startDate = '2000-02-18'\n",
        "endDate = '2022-12-31'\n",
        "\n",
        "# Image collection filtering by time range\n",
        "MODIS = MODIS.filterDate(startDate, endDate)"
      ]
    },
    {
      "cell_type": "code",
      "execution_count": null,
      "id": "e96358c4-d132-46fe-9270-b6a538a1cd73",
      "metadata": {
        "execution": {
          "iopub.execute_input": "2024-03-04T20:47:53.655071Z",
          "iopub.status.busy": "2024-03-04T20:47:53.654920Z",
          "iopub.status.idle": "2024-03-04T20:47:53.658519Z",
          "shell.execute_reply": "2024-03-04T20:47:53.658161Z",
          "shell.execute_reply.started": "2024-03-04T20:47:53.655061Z"
        },
        "tags": [],
        "id": "e96358c4-d132-46fe-9270-b6a538a1cd73"
      },
      "outputs": [],
      "source": [
        "# Check data retrieving\n",
        "print(type(MODIS))\n",
        "print(MODIS.size().getInfo())"
      ]
    },
    {
      "cell_type": "code",
      "execution_count": null,
      "id": "371e78f1-8b8b-40ea-b867-fe0debba660d",
      "metadata": {
        "execution": {
          "iopub.execute_input": "2024-03-04T20:48:08.062671Z",
          "iopub.status.busy": "2024-03-04T20:48:08.062505Z",
          "iopub.status.idle": "2024-03-04T20:48:09.542990Z",
          "shell.execute_reply": "2024-03-04T20:48:09.542277Z",
          "shell.execute_reply.started": "2024-03-04T20:48:08.062659Z"
        },
        "tags": [],
        "id": "371e78f1-8b8b-40ea-b867-fe0debba660d"
      },
      "outputs": [],
      "source": [
        "# Define a function to unmask the NDVI band\n",
        "def unmaskNDVI(image):\n",
        "    return image.select('NDVI').unmask(-2000)\n",
        "\n",
        "# Map the unmask function over the entire collection\n",
        "MODIS_unmasked = MODIS.map(unmaskNDVI)"
      ]
    },
    {
      "cell_type": "code",
      "source": [
        "# Convert the image collection to a stack of images\n",
        "MODIS_stack = MODIS_unmasked.toBands()\n",
        "print(type(MODIS_stack))"
      ],
      "metadata": {
        "id": "jB6UpXgpYqYi"
      },
      "id": "jB6UpXgpYqYi",
      "execution_count": null,
      "outputs": []
    },
    {
      "cell_type": "code",
      "source": [
        "# Clip the stack of images according to the study area\n",
        "MODIS_stack = MODIS_stack.clipToCollection(featureCollection02)"
      ],
      "metadata": {
        "id": "I3BRKyVHYqoJ"
      },
      "id": "I3BRKyVHYqoJ",
      "execution_count": null,
      "outputs": []
    },
    {
      "cell_type": "code",
      "source": [
        "# Generate interactive map to check images clipping\n",
        "Map = geemap.Map(center=(-30.78, -60.12), zoom=9)\n",
        "Map.addLayer(MODIS_stack.select(0), {'min': -2000, 'max': 10000, 'palette': ['yellow', 'red']}) # Add visualization parameters\n",
        "\n",
        "Map"
      ],
      "metadata": {
        "id": "YISm3qmVYqq8"
      },
      "id": "YISm3qmVYqq8",
      "execution_count": null,
      "outputs": []
    },
    {
      "cell_type": "markdown",
      "source": [
        "## K-means classification of the study area\n",
        "#### Kmeans in GEE description: https://developers.google.com/earth-engine/guides/clustering"
      ],
      "metadata": {
        "id": "K7VVVV9pkqAN"
      },
      "id": "K7VVVV9pkqAN"
    },
    {
      "cell_type": "markdown",
      "source": [
        "### Initialization/training dataset"
      ],
      "metadata": {
        "id": "qd8UJ4KxkxJI"
      },
      "id": "qd8UJ4KxkxJI"
    },
    {
      "cell_type": "code",
      "execution_count": null,
      "id": "2375393e-2a96-4b44-9fe3-8d150c5926f6",
      "metadata": {
        "execution": {
          "iopub.execute_input": "2024-03-04T20:48:18.992072Z",
          "iopub.status.busy": "2024-03-04T20:48:18.991639Z",
          "iopub.status.idle": "2024-03-04T20:48:18.995604Z",
          "shell.execute_reply": "2024-03-04T20:48:18.995306Z",
          "shell.execute_reply.started": "2024-03-04T20:48:18.992036Z"
        },
        "tags": [],
        "id": "2375393e-2a96-4b44-9fe3-8d150c5926f6"
      },
      "outputs": [],
      "source": [
        "'''\n",
        "NOTE: Running the Kmeans algorithm in GEE requires random training points as input\n",
        "'''\n",
        "\n",
        "# Define the region to generate the input sample\n",
        "region = featureCollection02\n",
        "# Pixel spatial resolution in meters\n",
        "scale = 250\n",
        "# Number of initialization/training points\n",
        "numPixels = 5000\n",
        "\n",
        "# Make the training dataset\n",
        "MODIS_randomtraining = MODIS_stack.sample(region=region, scale=scale, numPixels=numPixels)"
      ]
    },
    {
      "cell_type": "markdown",
      "source": [
        "### Study area classification"
      ],
      "metadata": {
        "id": "aSlPbK6WmabQ"
      },
      "id": "aSlPbK6WmabQ"
    },
    {
      "cell_type": "code",
      "source": [
        "'''\n",
        "NOTE: The criteria for the number of classification clusters was defined as\n",
        "80% of the prior classification types\n",
        "'''\n",
        "# Define the number of clusters for classification\n",
        "num_clusters = 40\n",
        "seed = 42\n",
        "\n",
        "# Train the Kmeans classifier\n",
        "kmeans = ee.Clusterer.wekaKMeans(num_clusters, seed=seed).train(MODIS_randomtraining)"
      ],
      "metadata": {
        "id": "U0-0NcltmYkg"
      },
      "id": "U0-0NcltmYkg",
      "execution_count": null,
      "outputs": []
    },
    {
      "cell_type": "code",
      "execution_count": null,
      "id": "37d1074b-5933-4f81-bdd8-2c131169aac2",
      "metadata": {
        "tags": [],
        "id": "37d1074b-5933-4f81-bdd8-2c131169aac2"
      },
      "outputs": [],
      "source": [
        "# Apply the classifier over the stack of images (Time series classification)\n",
        "MODIS_kmeans = MODIS_stack.cluster(kmeans) # Pixels are classified as 0 to n_clusters-1\n",
        "MODIS_kmeans = MODIS_kmeans.add(1) # Sum 1 so the first cluster id different to 0\n",
        "\n",
        "# Clip the image classified according to vector of the study area\n",
        "MODIS_kmeans = MODIS_kmeans.clip(featureCollection02)"
      ]
    },
    {
      "cell_type": "code",
      "execution_count": null,
      "id": "4ae1fe3f-5950-4d89-81eb-3c7d63dc041f",
      "metadata": {
        "tags": [],
        "id": "4ae1fe3f-5950-4d89-81eb-3c7d63dc041f"
      },
      "outputs": [],
      "source": [
        "# Check image output format\n",
        "print(type(MODIS_kmeans))"
      ]
    },
    {
      "cell_type": "markdown",
      "source": [
        "### Output visualization"
      ],
      "metadata": {
        "id": "o7q_pkYtu_TI"
      },
      "id": "o7q_pkYtu_TI"
    },
    {
      "cell_type": "code",
      "execution_count": null,
      "id": "1b16d004-02c1-4db6-a798-5ea2e2966670",
      "metadata": {
        "tags": [],
        "id": "1b16d004-02c1-4db6-a798-5ea2e2966670",
        "collapsed": true
      },
      "outputs": [],
      "source": [
        "Map = geemap.Map(center=(-32.06, -60.62), zoom=9)\n",
        "Map.addLayer(MODIS_kmeans)\n",
        "\n",
        "Map"
      ]
    },
    {
      "cell_type": "markdown",
      "source": [
        "### Export the final classification"
      ],
      "metadata": {
        "id": "b_czs4FlvCD5"
      },
      "id": "b_czs4FlvCD5"
    },
    {
      "cell_type": "code",
      "source": [
        "'''\n",
        "Tutorial for large images exporting from GEE\n",
        "https://worldbank.github.io/OpenNightLights/tutorials/mod3_7_import_export_data.html\n",
        "'''\n",
        "\n",
        "task = ee.batch.Export.image.toDrive(\n",
        "        image = MODIS_kmeans.toDouble(),\n",
        "        scale=scale,\n",
        "        region = featureCollection02.geometry().bounds(), # Or use custom ee.Geometry.Rectangle([minlon, minlat, maxlon, maxlat])\n",
        "        description = 'MODIS_MOD13Q1_NDVI_kmeans40-24-03.tif', # Define the name of the exported file\n",
        "        crs = 'EPSG:4326',\n",
        "        maxPixels = 1e10, # Avoid limits in memory usage\n",
        "        fileFormat = \"GeoTIFF\",\n",
        "        folder ='earthengine'\n",
        "  )\n",
        "\n",
        "task.start() # Find the final image in Google Drive folder"
      ],
      "metadata": {
        "id": "Xf7H_5Z8YSGQ"
      },
      "id": "Xf7H_5Z8YSGQ",
      "execution_count": null,
      "outputs": []
    },
    {
      "cell_type": "markdown",
      "id": "3b3bb87e-835e-4e24-9865-d384f7545b7f",
      "metadata": {
        "id": "3b3bb87e-835e-4e24-9865-d384f7545b7f"
      },
      "source": [
        "## Summary of cluster's classes\n",
        "\n",
        "#### Data sampling to reconstruct the timeseries of each classification"
      ]
    },
    {
      "cell_type": "code",
      "source": [
        "# Import image with the classification from the GH repo\n",
        "# If any error with the link, you can find the file here: https://github.com/francobarrionuevoenv21/ClusteringPaddyFields_Fires_SanJavier/blob/main/Data_results/03_MODIS_MOD13Q1_NDVI_kmeans40-24-03-integer.tif\n",
        "!wget https://github.com/francobarrionuevoenv21/ClusteringPaddyFields_Fires_SanJavier/raw/refs/heads/main/Data_results/03_MODIS_MOD13Q1_NDVI_kmeans40-24-03-integer.tif"
      ],
      "metadata": {
        "id": "K2q5b8DwTDZn"
      },
      "id": "K2q5b8DwTDZn",
      "execution_count": null,
      "outputs": []
    },
    {
      "cell_type": "code",
      "source": [
        "# Load raster classification\n",
        "raster_file = \"/content/03_MODIS_MOD13Q1_NDVI_kmeans40-24-03-integer.tif\"\n",
        "with rasterio.open(raster_file) as src:\n",
        "    classification = src.read(1)\n",
        "    transform = src.transform\n",
        "    num_clusters = len(np.unique(classification))"
      ],
      "metadata": {
        "id": "5yQJlZVIM4Ll"
      },
      "id": "5yQJlZVIM4Ll",
      "execution_count": null,
      "outputs": []
    },
    {
      "cell_type": "markdown",
      "source": [
        "### Create a dataset with random sampling points of the obtained classification"
      ],
      "metadata": {
        "id": "DiMqDiaf3TBI"
      },
      "id": "DiMqDiaf3TBI"
    },
    {
      "cell_type": "code",
      "source": [
        "# Set the number of sampling points for each cluster\n",
        "num_points_per_cluster = 100\n",
        "\n",
        "# Initialize lists for storing the sampling points data\n",
        "points = []\n",
        "cluster_numbers = []\n",
        "\n",
        "# Ieration for generating the sampling points randomly\n",
        "for cluster_id in range(1, num_clusters + 1):\n",
        "    cluster_indices = np.where(classification == cluster_id)\n",
        "    sample_indices = random.sample(range(len(cluster_indices[0])), min(num_points_per_cluster, len(cluster_indices[0])))\n",
        "\n",
        "    for index in sample_indices:\n",
        "        row, col = cluster_indices[0][index], cluster_indices[1][index] # Gets the index of each pixel\n",
        "        x, y = rasterio.transform.xy(transform, row, col) # Extracts the coordinates from each pixel\n",
        "        points.append(Point(x, y))\n",
        "        cluster_numbers.append(cluster_id)\n",
        "\n",
        "\n",
        "# Create a GeoDataFrame from the points\n",
        "data = {'geometry': points, 'cluster': cluster_numbers}\n",
        "gdf = gpd.GeoDataFrame(data, crs=src.crs)\n",
        "\n",
        "# Save the GeoDataFrame to a shapefile\n",
        "output_shapefile = \"kmeans_random_points_2dokmeans.shp\"\n",
        "gdf.to_file(output_shapefile)\n",
        "\n",
        "print(\"Random points saved to:\", output_shapefile)"
      ],
      "metadata": {
        "id": "Se6ZrpI92gOO"
      },
      "id": "Se6ZrpI92gOO",
      "execution_count": null,
      "outputs": []
    },
    {
      "cell_type": "markdown",
      "source": [
        "### Data sampling from the original MODIS dataset to reconstruct the TS"
      ],
      "metadata": {
        "id": "T7mZzeUc3U1A"
      },
      "id": "T7mZzeUc3U1A"
    },
    {
      "cell_type": "code",
      "execution_count": null,
      "id": "d66da10d-f55b-41f9-8ed5-90adbbbf75c6",
      "metadata": {
        "tags": [],
        "id": "d66da10d-f55b-41f9-8ed5-90adbbbf75c6"
      },
      "outputs": [],
      "source": [
        "modis_collection = MODIS\n",
        "\n",
        "clusters = gdf[\"cluster\"].unique()\n",
        "\n",
        "# Create a function to extract NDVI values for a point\n",
        "def get_ndvi_for_point(feature):\n",
        "    point = feature.geometry()\n",
        "    ndvi_values = modis_collection.getRegion(point, scale=250).getInfo()\n",
        "    return ndvi_values\n",
        "\n",
        "# Loop through each cluster and extract NDVI values for each point\n",
        "ndvi_data = []\n",
        "\n",
        "for cluster in clusters:\n",
        "    cluster_gdf = gdf[gdf[\"cluster\"] == cluster]\n",
        "    for index, row in cluster_gdf.iterrows():\n",
        "        point = Point(row[\"geometry\"].x, row[\"geometry\"].y)\n",
        "        feature = ee.Feature(ee.Geometry.Point(point.x, point.y))\n",
        "        ndvi_values = get_ndvi_for_point(feature)\n",
        "\n",
        "        # Extract NDVI values for each scene\n",
        "        for scene_values in ndvi_values[1:]:\n",
        "            timestamp_milliseconds = int(scene_values[3])\n",
        "            timestamp_seconds = timestamp_milliseconds / 1000\n",
        "            dt_object = dt.utcfromtimestamp(timestamp_seconds)\n",
        "            formatted_date = dt_object.strftime('%Y-%m-%d')\n",
        "\n",
        "            scene_ndvi_values = scene_values[4:]\n",
        "            ndvi_data.append([cluster, point.x, point.y, formatted_date, *scene_ndvi_values])\n",
        "\n",
        "# Create a dataframe from the extracted data\n",
        "columns = [\"cluster\", \"longitude\", \"latitude\", \"date\"] + [\"NDVI\" + str(i) for i in range(1, len(ndvi_data[0]) - 3)]\n",
        "ndvi_df = pd.DataFrame(ndvi_data, columns=columns)"
      ]
    },
    {
      "cell_type": "code",
      "execution_count": null,
      "id": "81027c09-a405-4293-a6c5-26cb10b9aa04",
      "metadata": {
        "tags": [],
        "id": "81027c09-a405-4293-a6c5-26cb10b9aa04"
      },
      "outputs": [],
      "source": [
        "# Fill Nan values with -2000 (same as with the unmasking done before)\n",
        "ndvi_df = ndvi_df.fillna(-2000)"
      ]
    },
    {
      "cell_type": "code",
      "execution_count": null,
      "id": "69e9675a-341d-41b2-9a11-046ba61627a0",
      "metadata": {
        "id": "69e9675a-341d-41b2-9a11-046ba61627a0"
      },
      "outputs": [],
      "source": [
        "# Display the dataFrame (Optional)\n",
        "#ndvi_df"
      ]
    },
    {
      "cell_type": "code",
      "execution_count": null,
      "id": "30c67057-b259-40e7-8e70-70c8f5620b27",
      "metadata": {
        "tags": [],
        "id": "30c67057-b259-40e7-8e70-70c8f5620b27"
      },
      "outputs": [],
      "source": [
        "# Pivot the DataFrame to have one column per date\n",
        "pivot_df = ndvi_df.pivot_table(\n",
        "    index=[\"cluster\", \"longitude\", \"latitude\"],\n",
        "    columns=\"date\",\n",
        "    values=[\"NDVI1\"],  # List all the NDVI columns here\n",
        "    aggfunc=\"first\"  # You can adjust the aggregation function if needed\n",
        ")\n",
        "\n",
        "# Reset the index to make columns regular columns\n",
        "pivot_df.reset_index(inplace=True)\n",
        "\n",
        "# Display the pivoted DataFrame (Optional)\n",
        "#pivot_df"
      ]
    },
    {
      "cell_type": "markdown",
      "source": [
        "### Export data"
      ],
      "metadata": {
        "id": "7_ncw9534MoA"
      },
      "id": "7_ncw9534MoA"
    },
    {
      "cell_type": "code",
      "execution_count": null,
      "id": "bbe91137-c3af-41a2-99d4-c73538800e1b",
      "metadata": {
        "tags": [],
        "id": "bbe91137-c3af-41a2-99d4-c73538800e1b"
      },
      "outputs": [],
      "source": [
        "# Export the final csv\n",
        "pivot_df.to_csv(\"kmeans_ndvi_pivot-2.csv\", index=False)\n",
        "files.download('kmeans_ndvi_pivot-2.csv')\n",
        "\n",
        "# Optional\n",
        "#ndvi_df.to_csv(\"kmeans_ndvi.csv\", index=False)\n",
        "#files.download('kmeans_ndvi.cs')"
      ]
    }
  ],
  "metadata": {
    "kernelspec": {
      "display_name": "Python 3 (ipykernel)",
      "language": "python",
      "name": "python3"
    },
    "language_info": {
      "codemirror_mode": {
        "name": "ipython",
        "version": 3
      },
      "file_extension": ".py",
      "mimetype": "text/x-python",
      "name": "python",
      "nbconvert_exporter": "python",
      "pygments_lexer": "ipython3",
      "version": "3.11.0"
    },
    "colab": {
      "provenance": []
    }
  },
  "nbformat": 4,
  "nbformat_minor": 5
}